{
 "cells": [
  {
   "cell_type": "markdown",
   "id": "af6ce83a",
   "metadata": {},
   "source": [
    "# Training Notebook for a Binary Classification using the Time Windows Approach"
   ]
  },
  {
   "cell_type": "markdown",
   "id": "2e48eac5",
   "metadata": {},
   "source": [
    "### Import Dependencies"
   ]
  },
  {
   "cell_type": "code",
   "execution_count": 1,
   "id": "a1dc3796",
   "metadata": {},
   "outputs": [],
   "source": [
    "import torch\n",
    "from torch.utils.data import DataLoader\n",
    "import numpy as np\n",
    "from sklearn.preprocessing import StandardScaler, LabelEncoder\n",
    "import pandas as pd\n",
    "import pytorch_lightning as pl\n",
    "from pytorch_lightning import Trainer\n",
    "from pytorch_lightning.callbacks import EarlyStopping, ModelCheckpoint\n",
    "import os\n",
    "from utils import *\n",
    "import json\n",
    "import random\n",
    "\n",
    "model_output_path = 'models'\n",
    "os.makedirs(model_output_path, exist_ok=True)\n",
    "device = torch.device('cuda' if torch.cuda.is_available() else 'cpu')"
   ]
  },
  {
   "cell_type": "code",
   "execution_count": 2,
   "id": "97b16d11",
   "metadata": {},
   "outputs": [
    {
     "name": "stderr",
     "output_type": "stream",
     "text": [
      "Seed set to 42\n"
     ]
    }
   ],
   "source": [
    "#set random seed for reproducibility\n",
    "random.seed(42)\n",
    "np.random.seed(42)\n",
    "torch.manual_seed(42)\n",
    "torch.cuda.manual_seed(42)\n",
    "pl.seed_everything(42)\n",
    "torch.backends.cudnn.deterministic = True"
   ]
  },
  {
   "cell_type": "markdown",
   "id": "1cdf66c8",
   "metadata": {},
   "source": [
    "### Datasets (k = 12 Folds Cross Validation) & Training of Encoder + MLP"
   ]
  },
  {
   "cell_type": "code",
   "execution_count": null,
   "id": "390e1ba7",
   "metadata": {},
   "outputs": [
    {
     "name": "stderr",
     "output_type": "stream",
     "text": [
      "You are using the plain ModelCheckpoint callback. Consider using LitModelCheckpoint which with seamless uploading to Model registry.\n",
      "GPU available: True (cuda), used: True\n",
      "TPU available: False, using: 0 TPU cores\n",
      "HPU available: False, using: 0 HPUs\n",
      "c:\\Users\\miche\\OneDrive\\Desktop\\tesi\\repo-tesi\\venv\\Lib\\site-packages\\pytorch_lightning\\trainer\\connectors\\logger_connector\\logger_connector.py:76: Starting from v1.9.0, `tensorboardX` has been removed as a dependency of the `pytorch_lightning` package, due to potential conflicts with other packages in the ML ecosystem. For this reason, `logger=True` will use `CSVLogger` as the default logger, unless the `tensorboard` or `tensorboardX` packages are found. Please `pip install lightning[extra]` or one of them to enable TensorBoard support by default\n",
      "LOCAL_RANK: 0 - CUDA_VISIBLE_DEVICES: [0]\n"
     ]
    },
    {
     "name": "stdout",
     "output_type": "stream",
     "text": [
      "\n",
      "Fold 1/12 -> Train: 54815 (exp: 61),  Val: 6157 (exp: 6),  Test: 5372 (exp: 6)\n",
      "Epoch 19: 100%|██████████| 1713/1713 [00:53<00:00, 31.78it/s, v_num=0, train_loss=0.167, train_acc=0.935, val_loss=0.100, val_acc=0.968]   \n"
     ]
    },
    {
     "name": "stderr",
     "output_type": "stream",
     "text": [
      "LOCAL_RANK: 0 - CUDA_VISIBLE_DEVICES: [0]\n"
     ]
    },
    {
     "name": "stdout",
     "output_type": "stream",
     "text": [
      "Testing DataLoader 0: 100%|██████████| 168/168 [00:03<00:00, 52.27it/s]\n",
      "────────────────────────────────────────────────────────────────────────────────────────────────────────────────────────\n",
      "       Test metric             DataLoader 0\n",
      "────────────────────────────────────────────────────────────────────────────────────────────────────────────────────────\n",
      "        test_acc            0.7109084129333496\n",
      "        test_loss           1.0299490690231323\n",
      "────────────────────────────────────────────────────────────────────────────────────────────────────────────────────────\n"
     ]
    },
    {
     "name": "stderr",
     "output_type": "stream",
     "text": [
      "100%|██████████| 1713/1713 [01:09<00:00, 24.65it/s]\n"
     ]
    },
    {
     "name": "stdout",
     "output_type": "stream",
     "text": [
      "Train Performance: 1.0\n"
     ]
    },
    {
     "name": "stderr",
     "output_type": "stream",
     "text": [
      "100%|██████████| 193/193 [00:44<00:00,  4.35it/s]\n"
     ]
    },
    {
     "name": "stdout",
     "output_type": "stream",
     "text": [
      "Validation Performance: 1.0\n"
     ]
    },
    {
     "name": "stderr",
     "output_type": "stream",
     "text": [
      "100%|██████████| 168/168 [00:43<00:00,  3.85it/s]\n"
     ]
    },
    {
     "name": "stdout",
     "output_type": "stream",
     "text": [
      "Test Performance: 0.6666666666666666\n",
      "\n",
      "Fold 2/12 -> Train: 56463 (exp: 61),  Val: 5372 (exp: 6),  Test: 4509 (exp: 6)\n"
     ]
    },
    {
     "name": "stderr",
     "output_type": "stream",
     "text": [
      "You are using the plain ModelCheckpoint callback. Consider using LitModelCheckpoint which with seamless uploading to Model registry.\n",
      "GPU available: True (cuda), used: True\n",
      "TPU available: False, using: 0 TPU cores\n",
      "HPU available: False, using: 0 HPUs\n",
      "LOCAL_RANK: 0 - CUDA_VISIBLE_DEVICES: [0]\n"
     ]
    },
    {
     "name": "stdout",
     "output_type": "stream",
     "text": [
      "Epoch 5: 100%|██████████| 1765/1765 [00:57<00:00, 30.88it/s, v_num=1, train_loss=0.0179, train_acc=1.000, val_loss=0.454, val_acc=0.767]\n"
     ]
    },
    {
     "name": "stderr",
     "output_type": "stream",
     "text": [
      "LOCAL_RANK: 0 - CUDA_VISIBLE_DEVICES: [0]\n"
     ]
    },
    {
     "name": "stdout",
     "output_type": "stream",
     "text": [
      "Testing DataLoader 0: 100%|██████████| 141/141 [00:02<00:00, 52.16it/s]\n",
      "────────────────────────────────────────────────────────────────────────────────────────────────────────────────────────\n",
      "       Test metric             DataLoader 0\n",
      "────────────────────────────────────────────────────────────────────────────────────────────────────────────────────────\n",
      "        test_acc             0.842980682849884\n",
      "        test_loss           0.36281558871269226\n",
      "────────────────────────────────────────────────────────────────────────────────────────────────────────────────────────\n"
     ]
    },
    {
     "name": "stderr",
     "output_type": "stream",
     "text": [
      "100%|██████████| 1765/1765 [01:13<00:00, 24.06it/s]\n"
     ]
    },
    {
     "name": "stdout",
     "output_type": "stream",
     "text": [
      "Train Performance: 1.0\n"
     ]
    },
    {
     "name": "stderr",
     "output_type": "stream",
     "text": [
      "100%|██████████| 168/168 [00:42<00:00,  3.93it/s]\n"
     ]
    },
    {
     "name": "stdout",
     "output_type": "stream",
     "text": [
      "Validation Performance: 0.6666666666666666\n"
     ]
    },
    {
     "name": "stderr",
     "output_type": "stream",
     "text": [
      "100%|██████████| 141/141 [00:43<00:00,  3.28it/s]\n"
     ]
    },
    {
     "name": "stdout",
     "output_type": "stream",
     "text": [
      "Test Performance: 0.8333333333333334\n",
      "\n",
      "Fold 3/12 -> Train: 56393 (exp: 61),  Val: 4509 (exp: 6),  Test: 5442 (exp: 6)\n"
     ]
    },
    {
     "name": "stderr",
     "output_type": "stream",
     "text": [
      "You are using the plain ModelCheckpoint callback. Consider using LitModelCheckpoint which with seamless uploading to Model registry.\n",
      "GPU available: True (cuda), used: True\n",
      "TPU available: False, using: 0 TPU cores\n",
      "HPU available: False, using: 0 HPUs\n",
      "LOCAL_RANK: 0 - CUDA_VISIBLE_DEVICES: [0]\n"
     ]
    },
    {
     "name": "stdout",
     "output_type": "stream",
     "text": [
      "Epoch 5: 100%|██████████| 1763/1763 [00:54<00:00, 32.64it/s, v_num=2, train_loss=0.242, train_acc=0.889, val_loss=0.628, val_acc=0.794] \n"
     ]
    },
    {
     "name": "stderr",
     "output_type": "stream",
     "text": [
      "LOCAL_RANK: 0 - CUDA_VISIBLE_DEVICES: [0]\n"
     ]
    },
    {
     "name": "stdout",
     "output_type": "stream",
     "text": [
      "Testing DataLoader 0: 100%|██████████| 171/171 [00:03<00:00, 51.75it/s]\n",
      "────────────────────────────────────────────────────────────────────────────────────────────────────────────────────────\n",
      "       Test metric             DataLoader 0\n",
      "────────────────────────────────────────────────────────────────────────────────────────────────────────────────────────\n",
      "        test_acc            0.8737596273422241\n",
      "        test_loss           0.22026006877422333\n",
      "────────────────────────────────────────────────────────────────────────────────────────────────────────────────────────\n"
     ]
    },
    {
     "name": "stderr",
     "output_type": "stream",
     "text": [
      "100%|██████████| 1763/1763 [01:09<00:00, 25.46it/s]\n"
     ]
    },
    {
     "name": "stdout",
     "output_type": "stream",
     "text": [
      "Train Performance: 1.0\n"
     ]
    },
    {
     "name": "stderr",
     "output_type": "stream",
     "text": [
      "100%|██████████| 141/141 [00:43<00:00,  3.25it/s]\n"
     ]
    },
    {
     "name": "stdout",
     "output_type": "stream",
     "text": [
      "Validation Performance: 0.8333333333333334\n"
     ]
    },
    {
     "name": "stderr",
     "output_type": "stream",
     "text": [
      "100%|██████████| 171/171 [00:50<00:00,  3.41it/s]\n"
     ]
    },
    {
     "name": "stdout",
     "output_type": "stream",
     "text": [
      "Test Performance: 0.8333333333333334\n",
      "\n",
      "Fold 4/12 -> Train: 55272 (exp: 61),  Val: 5442 (exp: 6),  Test: 5630 (exp: 6)\n"
     ]
    },
    {
     "name": "stderr",
     "output_type": "stream",
     "text": [
      "You are using the plain ModelCheckpoint callback. Consider using LitModelCheckpoint which with seamless uploading to Model registry.\n",
      "GPU available: True (cuda), used: True\n",
      "TPU available: False, using: 0 TPU cores\n",
      "HPU available: False, using: 0 HPUs\n",
      "LOCAL_RANK: 0 - CUDA_VISIBLE_DEVICES: [0]\n"
     ]
    },
    {
     "name": "stdout",
     "output_type": "stream",
     "text": [
      "Epoch 9: 100%|██████████| 1728/1728 [00:53<00:00, 32.59it/s, v_num=3, train_loss=0.0344, train_acc=1.000, val_loss=0.263, val_acc=0.898] \n"
     ]
    },
    {
     "name": "stderr",
     "output_type": "stream",
     "text": [
      "LOCAL_RANK: 0 - CUDA_VISIBLE_DEVICES: [0]\n"
     ]
    },
    {
     "name": "stdout",
     "output_type": "stream",
     "text": [
      "Testing DataLoader 0: 100%|██████████| 176/176 [00:03<00:00, 47.61it/s]\n",
      "────────────────────────────────────────────────────────────────────────────────────────────────────────────────────────\n",
      "       Test metric             DataLoader 0\n",
      "────────────────────────────────────────────────────────────────────────────────────────────────────────────────────────\n",
      "        test_acc            0.6399644613265991\n",
      "        test_loss            0.897584080696106\n",
      "────────────────────────────────────────────────────────────────────────────────────────────────────────────────────────\n"
     ]
    },
    {
     "name": "stderr",
     "output_type": "stream",
     "text": [
      "100%|██████████| 1728/1728 [01:08<00:00, 25.10it/s]\n"
     ]
    },
    {
     "name": "stdout",
     "output_type": "stream",
     "text": [
      "Train Performance: 1.0\n"
     ]
    },
    {
     "name": "stderr",
     "output_type": "stream",
     "text": [
      "100%|██████████| 171/171 [00:46<00:00,  3.68it/s]\n"
     ]
    },
    {
     "name": "stdout",
     "output_type": "stream",
     "text": [
      "Validation Performance: 1.0\n"
     ]
    },
    {
     "name": "stderr",
     "output_type": "stream",
     "text": [
      "100%|██████████| 176/176 [00:51<00:00,  3.40it/s]\n"
     ]
    },
    {
     "name": "stdout",
     "output_type": "stream",
     "text": [
      "Test Performance: 0.6666666666666666\n",
      "\n",
      "Fold 5/12 -> Train: 56161 (exp: 61),  Val: 5630 (exp: 6),  Test: 4553 (exp: 6)\n"
     ]
    },
    {
     "name": "stderr",
     "output_type": "stream",
     "text": [
      "You are using the plain ModelCheckpoint callback. Consider using LitModelCheckpoint which with seamless uploading to Model registry.\n",
      "GPU available: True (cuda), used: True\n",
      "TPU available: False, using: 0 TPU cores\n",
      "HPU available: False, using: 0 HPUs\n",
      "LOCAL_RANK: 0 - CUDA_VISIBLE_DEVICES: [0]\n"
     ]
    },
    {
     "name": "stdout",
     "output_type": "stream",
     "text": [
      "Epoch 9: 100%|██████████| 1756/1756 [00:54<00:00, 31.97it/s, v_num=4, train_loss=0.000, train_acc=1.000, val_loss=0.737, val_acc=0.830]  \n"
     ]
    },
    {
     "name": "stderr",
     "output_type": "stream",
     "text": [
      "LOCAL_RANK: 0 - CUDA_VISIBLE_DEVICES: [0]\n"
     ]
    },
    {
     "name": "stdout",
     "output_type": "stream",
     "text": [
      "Testing DataLoader 0: 100%|██████████| 143/143 [00:02<00:00, 48.25it/s]\n",
      "────────────────────────────────────────────────────────────────────────────────────────────────────────────────────────\n",
      "       Test metric             DataLoader 0\n",
      "────────────────────────────────────────────────────────────────────────────────────────────────────────────────────────\n",
      "        test_acc            0.8124313354492188\n",
      "        test_loss           0.4548482894897461\n",
      "────────────────────────────────────────────────────────────────────────────────────────────────────────────────────────\n"
     ]
    },
    {
     "name": "stderr",
     "output_type": "stream",
     "text": [
      "100%|██████████| 1756/1756 [01:14<00:00, 23.68it/s]\n"
     ]
    },
    {
     "name": "stdout",
     "output_type": "stream",
     "text": [
      "Train Performance: 0.9836065573770492\n"
     ]
    },
    {
     "name": "stderr",
     "output_type": "stream",
     "text": [
      "100%|██████████| 176/176 [00:45<00:00,  3.83it/s]\n"
     ]
    },
    {
     "name": "stdout",
     "output_type": "stream",
     "text": [
      "Validation Performance: 0.8333333333333334\n"
     ]
    },
    {
     "name": "stderr",
     "output_type": "stream",
     "text": [
      "100%|██████████| 143/143 [00:47<00:00,  3.01it/s]\n"
     ]
    },
    {
     "name": "stdout",
     "output_type": "stream",
     "text": [
      "Test Performance: 0.8333333333333334\n",
      "\n",
      "Fold 6/12 -> Train: 57112 (exp: 61),  Val: 4553 (exp: 6),  Test: 4679 (exp: 6)\n"
     ]
    },
    {
     "name": "stderr",
     "output_type": "stream",
     "text": [
      "You are using the plain ModelCheckpoint callback. Consider using LitModelCheckpoint which with seamless uploading to Model registry.\n",
      "GPU available: True (cuda), used: True\n",
      "TPU available: False, using: 0 TPU cores\n",
      "HPU available: False, using: 0 HPUs\n",
      "LOCAL_RANK: 0 - CUDA_VISIBLE_DEVICES: [0]\n"
     ]
    },
    {
     "name": "stdout",
     "output_type": "stream",
     "text": [
      "Epoch 20: 100%|██████████| 1785/1785 [00:53<00:00, 33.25it/s, v_num=5, train_loss=0.0295, train_acc=1.000, val_loss=0.143, val_acc=0.938]  \n"
     ]
    },
    {
     "name": "stderr",
     "output_type": "stream",
     "text": [
      "LOCAL_RANK: 0 - CUDA_VISIBLE_DEVICES: [0]\n"
     ]
    },
    {
     "name": "stdout",
     "output_type": "stream",
     "text": [
      "Testing DataLoader 0: 100%|██████████| 147/147 [00:03<00:00, 47.62it/s]\n",
      "────────────────────────────────────────────────────────────────────────────────────────────────────────────────────────\n",
      "       Test metric             DataLoader 0\n",
      "────────────────────────────────────────────────────────────────────────────────────────────────────────────────────────\n",
      "        test_acc             0.826672375202179\n",
      "        test_loss           1.0703681707382202\n",
      "────────────────────────────────────────────────────────────────────────────────────────────────────────────────────────\n"
     ]
    },
    {
     "name": "stderr",
     "output_type": "stream",
     "text": [
      "100%|██████████| 1785/1785 [01:10<00:00, 25.25it/s]\n"
     ]
    },
    {
     "name": "stdout",
     "output_type": "stream",
     "text": [
      "Train Performance: 1.0\n"
     ]
    },
    {
     "name": "stderr",
     "output_type": "stream",
     "text": [
      "100%|██████████| 143/143 [00:41<00:00,  3.41it/s]\n"
     ]
    },
    {
     "name": "stdout",
     "output_type": "stream",
     "text": [
      "Validation Performance: 1.0\n"
     ]
    },
    {
     "name": "stderr",
     "output_type": "stream",
     "text": [
      "100%|██████████| 147/147 [00:43<00:00,  3.40it/s]\n"
     ]
    },
    {
     "name": "stdout",
     "output_type": "stream",
     "text": [
      "Test Performance: 0.8333333333333334\n",
      "\n",
      "Fold 7/12 -> Train: 55715 (exp: 61),  Val: 4679 (exp: 6),  Test: 5950 (exp: 6)\n"
     ]
    },
    {
     "name": "stderr",
     "output_type": "stream",
     "text": [
      "You are using the plain ModelCheckpoint callback. Consider using LitModelCheckpoint which with seamless uploading to Model registry.\n",
      "GPU available: True (cuda), used: True\n",
      "TPU available: False, using: 0 TPU cores\n",
      "HPU available: False, using: 0 HPUs\n",
      "LOCAL_RANK: 0 - CUDA_VISIBLE_DEVICES: [0]\n"
     ]
    },
    {
     "name": "stdout",
     "output_type": "stream",
     "text": [
      "Epoch 5: 100%|██████████| 1742/1742 [00:53<00:00, 32.34it/s, v_num=6, train_loss=0.203, train_acc=1.000, val_loss=0.939, val_acc=0.781] \n"
     ]
    },
    {
     "name": "stderr",
     "output_type": "stream",
     "text": [
      "LOCAL_RANK: 0 - CUDA_VISIBLE_DEVICES: [0]\n"
     ]
    },
    {
     "name": "stdout",
     "output_type": "stream",
     "text": [
      "Testing DataLoader 0: 100%|██████████| 186/186 [00:03<00:00, 50.33it/s]\n",
      "────────────────────────────────────────────────────────────────────────────────────────────────────────────────────────\n",
      "       Test metric             DataLoader 0\n",
      "────────────────────────────────────────────────────────────────────────────────────────────────────────────────────────\n",
      "        test_acc            0.9026890993118286\n",
      "        test_loss           0.18262138962745667\n",
      "────────────────────────────────────────────────────────────────────────────────────────────────────────────────────────\n"
     ]
    },
    {
     "name": "stderr",
     "output_type": "stream",
     "text": [
      "100%|██████████| 1742/1742 [01:10<00:00, 24.55it/s]\n"
     ]
    },
    {
     "name": "stdout",
     "output_type": "stream",
     "text": [
      "Train Performance: 1.0\n"
     ]
    },
    {
     "name": "stderr",
     "output_type": "stream",
     "text": [
      "100%|██████████| 147/147 [00:43<00:00,  3.40it/s]\n"
     ]
    },
    {
     "name": "stdout",
     "output_type": "stream",
     "text": [
      "Validation Performance: 0.8333333333333334\n"
     ]
    },
    {
     "name": "stderr",
     "output_type": "stream",
     "text": [
      "100%|██████████| 186/186 [00:44<00:00,  4.14it/s]\n"
     ]
    },
    {
     "name": "stdout",
     "output_type": "stream",
     "text": [
      "Test Performance: 0.8333333333333334\n",
      "\n",
      "Fold 8/12 -> Train: 55570 (exp: 61),  Val: 5950 (exp: 6),  Test: 4824 (exp: 6)\n"
     ]
    },
    {
     "name": "stderr",
     "output_type": "stream",
     "text": [
      "You are using the plain ModelCheckpoint callback. Consider using LitModelCheckpoint which with seamless uploading to Model registry.\n",
      "GPU available: True (cuda), used: True\n",
      "TPU available: False, using: 0 TPU cores\n",
      "HPU available: False, using: 0 HPUs\n",
      "LOCAL_RANK: 0 - CUDA_VISIBLE_DEVICES: [0]\n"
     ]
    },
    {
     "name": "stdout",
     "output_type": "stream",
     "text": [
      "Epoch 6: 100%|██████████| 1737/1737 [00:53<00:00, 32.41it/s, v_num=7, train_loss=0.0735, train_acc=1.000, val_loss=0.236, val_acc=0.878]\n"
     ]
    },
    {
     "name": "stderr",
     "output_type": "stream",
     "text": [
      "LOCAL_RANK: 0 - CUDA_VISIBLE_DEVICES: [0]\n"
     ]
    },
    {
     "name": "stdout",
     "output_type": "stream",
     "text": [
      "Testing DataLoader 0: 100%|██████████| 151/151 [00:02<00:00, 52.07it/s]\n",
      "────────────────────────────────────────────────────────────────────────────────────────────────────────────────────────\n",
      "       Test metric             DataLoader 0\n",
      "────────────────────────────────────────────────────────────────────────────────────────────────────────────────────────\n",
      "        test_acc            0.9564676880836487\n",
      "        test_loss           0.12660939991474152\n",
      "────────────────────────────────────────────────────────────────────────────────────────────────────────────────────────\n"
     ]
    },
    {
     "name": "stderr",
     "output_type": "stream",
     "text": [
      "100%|██████████| 1737/1737 [01:09<00:00, 24.84it/s]\n"
     ]
    },
    {
     "name": "stdout",
     "output_type": "stream",
     "text": [
      "Train Performance: 1.0\n"
     ]
    },
    {
     "name": "stderr",
     "output_type": "stream",
     "text": [
      "100%|██████████| 186/186 [00:44<00:00,  4.13it/s]\n"
     ]
    },
    {
     "name": "stdout",
     "output_type": "stream",
     "text": [
      "Validation Performance: 0.8333333333333334\n"
     ]
    },
    {
     "name": "stderr",
     "output_type": "stream",
     "text": [
      "100%|██████████| 151/151 [00:48<00:00,  3.09it/s]\n"
     ]
    },
    {
     "name": "stdout",
     "output_type": "stream",
     "text": [
      "Test Performance: 1.0\n",
      "\n",
      "Fold 9/12 -> Train: 55341 (exp: 61),  Val: 4824 (exp: 6),  Test: 6179 (exp: 6)\n"
     ]
    },
    {
     "name": "stderr",
     "output_type": "stream",
     "text": [
      "You are using the plain ModelCheckpoint callback. Consider using LitModelCheckpoint which with seamless uploading to Model registry.\n",
      "GPU available: True (cuda), used: True\n",
      "TPU available: False, using: 0 TPU cores\n",
      "HPU available: False, using: 0 HPUs\n",
      "LOCAL_RANK: 0 - CUDA_VISIBLE_DEVICES: [0]\n"
     ]
    },
    {
     "name": "stdout",
     "output_type": "stream",
     "text": [
      "Epoch 17: 100%|██████████| 1730/1730 [00:51<00:00, 33.34it/s, v_num=8, train_loss=0.177, train_acc=0.923, val_loss=0.137, val_acc=0.945]   \n"
     ]
    },
    {
     "name": "stderr",
     "output_type": "stream",
     "text": [
      "LOCAL_RANK: 0 - CUDA_VISIBLE_DEVICES: [0]\n"
     ]
    },
    {
     "name": "stdout",
     "output_type": "stream",
     "text": [
      "Testing DataLoader 0: 100%|██████████| 194/194 [00:04<00:00, 47.73it/s]\n",
      "────────────────────────────────────────────────────────────────────────────────────────────────────────────────────────\n",
      "       Test metric             DataLoader 0\n",
      "────────────────────────────────────────────────────────────────────────────────────────────────────────────────────────\n",
      "        test_acc             0.739116370677948\n",
      "        test_loss            1.231597900390625\n",
      "────────────────────────────────────────────────────────────────────────────────────────────────────────────────────────\n"
     ]
    },
    {
     "name": "stderr",
     "output_type": "stream",
     "text": [
      "100%|██████████| 1730/1730 [01:09<00:00, 24.77it/s]\n"
     ]
    },
    {
     "name": "stdout",
     "output_type": "stream",
     "text": [
      "Train Performance: 1.0\n"
     ]
    },
    {
     "name": "stderr",
     "output_type": "stream",
     "text": [
      "100%|██████████| 151/151 [00:43<00:00,  3.44it/s]\n"
     ]
    },
    {
     "name": "stdout",
     "output_type": "stream",
     "text": [
      "Validation Performance: 1.0\n"
     ]
    },
    {
     "name": "stderr",
     "output_type": "stream",
     "text": [
      "100%|██████████| 194/194 [00:52<00:00,  3.71it/s]\n"
     ]
    },
    {
     "name": "stdout",
     "output_type": "stream",
     "text": [
      "Test Performance: 0.8333333333333334\n",
      "\n",
      "Fold 10/12 -> Train: 54448 (exp: 61),  Val: 6179 (exp: 6),  Test: 5717 (exp: 6)\n"
     ]
    },
    {
     "name": "stderr",
     "output_type": "stream",
     "text": [
      "You are using the plain ModelCheckpoint callback. Consider using LitModelCheckpoint which with seamless uploading to Model registry.\n",
      "GPU available: True (cuda), used: True\n",
      "TPU available: False, using: 0 TPU cores\n",
      "HPU available: False, using: 0 HPUs\n",
      "LOCAL_RANK: 0 - CUDA_VISIBLE_DEVICES: [0]\n"
     ]
    },
    {
     "name": "stdout",
     "output_type": "stream",
     "text": [
      "Epoch 5: 100%|██████████| 1702/1702 [00:51<00:00, 33.26it/s, v_num=9, train_loss=0.0355, train_acc=1.000, val_loss=4.090, val_acc=0.673]\n"
     ]
    },
    {
     "name": "stderr",
     "output_type": "stream",
     "text": [
      "LOCAL_RANK: 0 - CUDA_VISIBLE_DEVICES: [0]\n"
     ]
    },
    {
     "name": "stdout",
     "output_type": "stream",
     "text": [
      "Testing DataLoader 0: 100%|██████████| 179/179 [00:03<00:00, 51.20it/s]\n",
      "────────────────────────────────────────────────────────────────────────────────────────────────────────────────────────\n",
      "       Test metric             DataLoader 0\n",
      "────────────────────────────────────────────────────────────────────────────────────────────────────────────────────────\n",
      "        test_acc            0.6547139883041382\n",
      "        test_loss            2.832848310470581\n",
      "────────────────────────────────────────────────────────────────────────────────────────────────────────────────────────\n"
     ]
    },
    {
     "name": "stderr",
     "output_type": "stream",
     "text": [
      "100%|██████████| 1702/1702 [01:09<00:00, 24.50it/s]\n"
     ]
    },
    {
     "name": "stdout",
     "output_type": "stream",
     "text": [
      "Train Performance: 1.0\n"
     ]
    },
    {
     "name": "stderr",
     "output_type": "stream",
     "text": [
      "100%|██████████| 194/194 [00:46<00:00,  4.20it/s]\n"
     ]
    },
    {
     "name": "stdout",
     "output_type": "stream",
     "text": [
      "Validation Performance: 0.6666666666666666\n"
     ]
    },
    {
     "name": "stderr",
     "output_type": "stream",
     "text": [
      "100%|██████████| 179/179 [00:59<00:00,  3.03it/s]\n"
     ]
    },
    {
     "name": "stdout",
     "output_type": "stream",
     "text": [
      "Test Performance: 0.6666666666666666\n",
      "\n",
      "Fold 11/12 -> Train: 54184 (exp: 61),  Val: 5717 (exp: 6),  Test: 6443 (exp: 6)\n"
     ]
    },
    {
     "name": "stderr",
     "output_type": "stream",
     "text": [
      "You are using the plain ModelCheckpoint callback. Consider using LitModelCheckpoint which with seamless uploading to Model registry.\n",
      "GPU available: True (cuda), used: True\n",
      "TPU available: False, using: 0 TPU cores\n",
      "HPU available: False, using: 0 HPUs\n",
      "LOCAL_RANK: 0 - CUDA_VISIBLE_DEVICES: [0]\n"
     ]
    },
    {
     "name": "stdout",
     "output_type": "stream",
     "text": [
      "Epoch 5: 100%|██████████| 1694/1694 [00:51<00:00, 32.85it/s, v_num=10, train_loss=0.00954, train_acc=1.000, val_loss=2.160, val_acc=0.663]\n"
     ]
    },
    {
     "name": "stderr",
     "output_type": "stream",
     "text": [
      "LOCAL_RANK: 0 - CUDA_VISIBLE_DEVICES: [0]\n"
     ]
    },
    {
     "name": "stdout",
     "output_type": "stream",
     "text": [
      "Testing DataLoader 0: 100%|██████████| 202/202 [00:04<00:00, 48.58it/s]\n",
      "────────────────────────────────────────────────────────────────────────────────────────────────────────────────────────\n",
      "       Test metric             DataLoader 0\n",
      "────────────────────────────────────────────────────────────────────────────────────────────────────────────────────────\n",
      "        test_acc            0.9411764740943909\n",
      "        test_loss           0.1817108541727066\n",
      "────────────────────────────────────────────────────────────────────────────────────────────────────────────────────────\n"
     ]
    },
    {
     "name": "stderr",
     "output_type": "stream",
     "text": [
      "100%|██████████| 1694/1694 [01:08<00:00, 24.56it/s]\n"
     ]
    },
    {
     "name": "stdout",
     "output_type": "stream",
     "text": [
      "Train Performance: 0.9672131147540983\n"
     ]
    },
    {
     "name": "stderr",
     "output_type": "stream",
     "text": [
      "100%|██████████| 179/179 [00:46<00:00,  3.86it/s]\n"
     ]
    },
    {
     "name": "stdout",
     "output_type": "stream",
     "text": [
      "Validation Performance: 0.6666666666666666\n"
     ]
    },
    {
     "name": "stderr",
     "output_type": "stream",
     "text": [
      "  0%|          | 0/202 [00:00<?, ?it/s]"
     ]
    }
   ],
   "source": [
    "folds = 12\n",
    "exp_names_per_fold = 3\n",
    "labels_to_include = ['ETHANOL', 'ACETONE']\n",
    "N = 100\n",
    "hidden_dim = 64\n",
    "latent_dim = 20\n",
    "MAX_EPOCHS = 25\n",
    "\n",
    "df = pd.read_csv(\"original_training_set_filtered.csv\")\n",
    "df = df[df['label'].isin(labels_to_include)]\n",
    "\n",
    "exp_labels = df.groupby(\"exp_name\")[\"label\"].first()\n",
    "label_encoder = LabelEncoder()\n",
    "label_encoder.fit(exp_labels.values)\n",
    "exp_name_to_label = exp_labels.to_dict()\n",
    "\n",
    "\n",
    "exp_names_ACE = list(df[df[\"label\"] == \"ACETONE\"][\"exp_name\"].unique())\n",
    "exp_names_ETH = list(df[df[\"label\"] == \"ETHANOL\"][\"exp_name\"].unique())\n",
    "random.shuffle(exp_names_ACE)\n",
    "random.shuffle(exp_names_ETH)\n",
    "\n",
    "splits = {} #splits[fold][\"split\"] -> list of exp_names of \"split\"\n",
    "for fold in range(1, folds + 1):\n",
    "    splits[fold] = {}\n",
    "    val_interval = ((fold - 1) * exp_names_per_fold, fold * exp_names_per_fold)\n",
    "    test_interval = (fold * exp_names_per_fold, (fold + 1) * exp_names_per_fold)\n",
    "    splits[fold][\"val\"] = exp_names_ACE[val_interval[0]:val_interval[1]] + exp_names_ETH[val_interval[0]:val_interval[1]]\n",
    "    splits[fold][\"test\"] = exp_names_ACE[test_interval[0]:test_interval[1]] + exp_names_ETH[test_interval[0]:test_interval[1]]\n",
    "    splits[fold][\"train\"] = list((set(exp_names_ACE) | set(exp_names_ETH)) - set(splits[fold][\"val\"]) - set(splits[fold][\"test\"]))\n",
    "\n",
    "\n",
    "os.makedirs(\"models/binaryETHvsACE\", exist_ok=True)\n",
    "json.dump(splits, open(\"models/binaryETHvsACE/fold_splits_exp_names.json\", \"w\"))\n",
    "\n",
    "for fold in range(1, folds+1):\n",
    "\n",
    "    # Fold Splitting\n",
    "    df_train = df[df[\"exp_name\"].isin(splits[fold][\"train\"])]\n",
    "    df_val = df[df[\"exp_name\"].isin(splits[fold][\"val\"])]\n",
    "    df_test = df[df[\"exp_name\"].isin(splits[fold][\"test\"])]\n",
    "\n",
    "    feature_columns = [col for col in df_train.columns if col not in [\"label\", \"exp_name\"]]\n",
    "    scaler = StandardScaler()\n",
    "    scaler.fit(df_train[feature_columns])\n",
    "    mean = scaler.mean_\n",
    "    std = scaler.scale_\n",
    "\n",
    "    train_dataset = SensorDataset(df = df_train,\n",
    "                                  label_encoder=label_encoder,\n",
    "                                  exp_name_to_label=exp_name_to_label,\n",
    "                                  mean=mean,\n",
    "                                  std=std,\n",
    "                                  N=N)\n",
    "    \n",
    "    val_dataset = SensorDataset(df = df_val,\n",
    "                                label_encoder=label_encoder,\n",
    "                                exp_name_to_label=exp_name_to_label,\n",
    "                                mean=mean,\n",
    "                                std=std,\n",
    "                                N=N)\n",
    "    \n",
    "    test_dataset = SensorDataset(df = df_test,\n",
    "                                 label_encoder=label_encoder,\n",
    "                                 exp_name_to_label=exp_name_to_label,\n",
    "                                 mean=mean,\n",
    "                                 std=std,\n",
    "                                 N=N)\n",
    "    \n",
    "    print(f\"\\nFold {fold}/{folds} -> Train: {len(train_dataset)} (exp: {len(df_train['exp_name'].unique())}), \",\n",
    "        f\"Val: {len(val_dataset)} (exp: {len(df_val['exp_name'].unique())}), \",\n",
    "        f\"Test: {len(test_dataset)} (exp: {len(df_test['exp_name'].unique())})\")\n",
    "    \n",
    "    train_loader = DataLoader(train_dataset, batch_size=32, shuffle=True, num_workers=4, persistent_workers=True)\n",
    "    val_loader = DataLoader(val_dataset, batch_size=32, shuffle=False, num_workers=4, persistent_workers=True)\n",
    "    test_loader = DataLoader(test_dataset, batch_size=32, shuffle=False, num_workers=4, persistent_workers=True)\n",
    "\n",
    "    model = EncoderMLPClassifier(\n",
    "        num_features=len(feature_columns),\n",
    "        window_size=N,\n",
    "        latent_dim=latent_dim,\n",
    "        hidden_dim=hidden_dim,\n",
    "        num_classes=2,\n",
    "        lr=1e-4,\n",
    "        dropout=0.2,\n",
    "        weight_decay=1e-5\n",
    "    )\n",
    "\n",
    "    early_stop_callback = EarlyStopping(\n",
    "        monitor=\"val_loss\",\n",
    "        patience=5,\n",
    "        verbose=False,\n",
    "        mode=\"min\"\n",
    "    )\n",
    "\n",
    "    trainer = Trainer(\n",
    "        max_epochs=MAX_EPOCHS,\n",
    "        callbacks=[early_stop_callback],\n",
    "        enable_model_summary=False,  # <- Hides the model summary\n",
    "        accelerator=\"gpu\" if torch.cuda.is_available() else \"cpu\",\n",
    "        devices=1\n",
    "    )\n",
    "\n",
    "    trainer.fit(model, train_loader, val_loader)\n",
    "    # Save the model\n",
    "    output_name = f\"binaryETHvsACE/binaryETHvsACE_EMLP_h{hidden_dim}_l{latent_dim}_{fold}.ckpt\"\n",
    "    model_path = os.path.join(model_output_path, output_name)\n",
    "    trainer.save_checkpoint(model_path)\n",
    "\n",
    "    # Test the model\n",
    "    trainer.test(model, test_loader)\n",
    "\n",
    "    _, train_exp_stats = get_stats(model_path, train_loader, len(label_encoder.classes_), device)\n",
    "    train_performance, _, _ = compute_experiment_performance(train_exp_stats)\n",
    "    print(f\"Train Performance: {train_performance}\")\n",
    "\n",
    "    _, val_exp_stats = get_stats(model_path, val_loader, len(label_encoder.classes_), device)\n",
    "    val_performance, _, _ = compute_experiment_performance(val_exp_stats)\n",
    "    print(f\"Validation Performance: {val_performance}\")\n",
    "\n",
    "    _, test_exp_stats = get_stats(model_path, test_loader, len(label_encoder.classes_), device)\n",
    "    test_performance, _, _ = compute_experiment_performance(test_exp_stats)\n",
    "    print(f\"Test Performance: {test_performance}\")\n",
    "    "
   ]
  },
  {
   "cell_type": "code",
   "execution_count": 5,
   "id": "73b0392e",
   "metadata": {},
   "outputs": [
    {
     "name": "stderr",
     "output_type": "stream",
     "text": [
      "You are using the plain ModelCheckpoint callback. Consider using LitModelCheckpoint which with seamless uploading to Model registry.\n",
      "GPU available: True (cuda), used: True\n",
      "TPU available: False, using: 0 TPU cores\n",
      "HPU available: False, using: 0 HPUs\n",
      "c:\\Users\\miche\\OneDrive\\Desktop\\tesi\\repo-tesi\\venv\\Lib\\site-packages\\pytorch_lightning\\trainer\\connectors\\logger_connector\\logger_connector.py:76: Starting from v1.9.0, `tensorboardX` has been removed as a dependency of the `pytorch_lightning` package, due to potential conflicts with other packages in the ML ecosystem. For this reason, `logger=True` will use `CSVLogger` as the default logger, unless the `tensorboard` or `tensorboardX` packages are found. Please `pip install lightning[extra]` or one of them to enable TensorBoard support by default\n",
      "LOCAL_RANK: 0 - CUDA_VISIBLE_DEVICES: [0]\n"
     ]
    },
    {
     "name": "stdout",
     "output_type": "stream",
     "text": [
      "\n",
      "Fold 11/12 -> Train: 54184 (exp: 61),  Val: 5717 (exp: 6),  Test: 6443 (exp: 6)\n",
      "Epoch 5: 100%|██████████| 1694/1694 [00:33<00:00, 50.69it/s, v_num=10, train_loss=0.157, train_acc=0.875, val_loss=3.320, val_acc=0.679] \n"
     ]
    },
    {
     "name": "stderr",
     "output_type": "stream",
     "text": [
      "LOCAL_RANK: 0 - CUDA_VISIBLE_DEVICES: [0]\n"
     ]
    },
    {
     "name": "stdout",
     "output_type": "stream",
     "text": [
      "Testing DataLoader 0: 100%|██████████| 202/202 [00:02<00:00, 82.94it/s]\n",
      "────────────────────────────────────────────────────────────────────────────────────────────────────────────────────────\n",
      "       Test metric             DataLoader 0\n",
      "────────────────────────────────────────────────────────────────────────────────────────────────────────────────────────\n",
      "        test_acc            0.9312431812286377\n",
      "        test_loss           0.19805903732776642\n",
      "────────────────────────────────────────────────────────────────────────────────────────────────────────────────────────\n"
     ]
    },
    {
     "name": "stderr",
     "output_type": "stream",
     "text": [
      "100%|██████████| 1694/1694 [00:49<00:00, 34.48it/s] \n"
     ]
    },
    {
     "name": "stdout",
     "output_type": "stream",
     "text": [
      "Train Performance: 1.0\n"
     ]
    },
    {
     "name": "stderr",
     "output_type": "stream",
     "text": [
      "100%|██████████| 179/179 [00:34<00:00,  5.12it/s]\n"
     ]
    },
    {
     "name": "stdout",
     "output_type": "stream",
     "text": [
      "Validation Performance: 0.6666666666666666\n"
     ]
    },
    {
     "name": "stderr",
     "output_type": "stream",
     "text": [
      "100%|██████████| 202/202 [00:38<00:00,  5.27it/s]\n"
     ]
    },
    {
     "name": "stdout",
     "output_type": "stream",
     "text": [
      "Test Performance: 1.0\n",
      "\n",
      "Fold 12/12 -> Train: 59012 (exp: 66),  Val: 6443 (exp: 6),  Test: 889 (exp: 1)\n"
     ]
    },
    {
     "name": "stderr",
     "output_type": "stream",
     "text": [
      "You are using the plain ModelCheckpoint callback. Consider using LitModelCheckpoint which with seamless uploading to Model registry.\n",
      "GPU available: True (cuda), used: True\n",
      "TPU available: False, using: 0 TPU cores\n",
      "HPU available: False, using: 0 HPUs\n",
      "LOCAL_RANK: 0 - CUDA_VISIBLE_DEVICES: [0]\n"
     ]
    },
    {
     "name": "stdout",
     "output_type": "stream",
     "text": [
      "Epoch 11: 100%|██████████| 1845/1845 [01:21<00:00, 22.70it/s, v_num=11, train_loss=0.0215, train_acc=1.000, val_loss=0.107, val_acc=0.970] \n"
     ]
    },
    {
     "name": "stderr",
     "output_type": "stream",
     "text": [
      "LOCAL_RANK: 0 - CUDA_VISIBLE_DEVICES: [0]\n"
     ]
    },
    {
     "name": "stdout",
     "output_type": "stream",
     "text": [
      "Testing DataLoader 0: 100%|██████████| 28/28 [00:00<00:00, 43.31it/s]\n",
      "────────────────────────────────────────────────────────────────────────────────────────────────────────────────────────\n",
      "       Test metric             DataLoader 0\n",
      "────────────────────────────────────────────────────────────────────────────────────────────────────────────────────────\n",
      "        test_acc            0.5500562191009521\n",
      "        test_loss           0.7954264283180237\n",
      "────────────────────────────────────────────────────────────────────────────────────────────────────────────────────────\n"
     ]
    },
    {
     "name": "stderr",
     "output_type": "stream",
     "text": [
      "100%|██████████| 1845/1845 [01:50<00:00, 16.70it/s]\n"
     ]
    },
    {
     "name": "stdout",
     "output_type": "stream",
     "text": [
      "Train Performance: 1.0\n"
     ]
    },
    {
     "name": "stderr",
     "output_type": "stream",
     "text": [
      "100%|██████████| 202/202 [01:07<00:00,  2.98it/s]\n"
     ]
    },
    {
     "name": "stdout",
     "output_type": "stream",
     "text": [
      "Validation Performance: 1.0\n"
     ]
    },
    {
     "name": "stderr",
     "output_type": "stream",
     "text": [
      "100%|██████████| 28/28 [01:06<00:00,  2.37s/it]"
     ]
    },
    {
     "name": "stdout",
     "output_type": "stream",
     "text": [
      "Test Performance: 1.0\n"
     ]
    },
    {
     "name": "stderr",
     "output_type": "stream",
     "text": [
      "\n"
     ]
    }
   ],
   "source": [
    "last_breakpoint_fold = 11\n",
    "folds = 12\n",
    "exp_names_per_fold = 3\n",
    "labels_to_include = ['ETHANOL', 'ACETONE']\n",
    "N = 100\n",
    "hidden_dim = 64\n",
    "latent_dim = 20\n",
    "MAX_EPOCHS = 25\n",
    "\n",
    "df = pd.read_csv(\"original_training_set_filtered.csv\")\n",
    "df = df[df['label'].isin(labels_to_include)]\n",
    "\n",
    "exp_labels = df.groupby(\"exp_name\")[\"label\"].first()\n",
    "label_encoder = LabelEncoder()\n",
    "label_encoder.fit(exp_labels.values)\n",
    "exp_name_to_label = exp_labels.to_dict()\n",
    "\n",
    "#load the splits\n",
    "splits = json.load(open(\"models/binaryETHvsACE/fold_splits_exp_names.json\", \"r\"))\n",
    "\n",
    "for fold in range(last_breakpoint_fold, folds+1):\n",
    "    fold = str(fold)\n",
    "    # Fold Splitting\n",
    "    df_train = df[df[\"exp_name\"].isin(splits[fold][\"train\"])]\n",
    "    df_val = df[df[\"exp_name\"].isin(splits[fold][\"val\"])]\n",
    "    df_test = df[df[\"exp_name\"].isin(splits[fold][\"test\"])]\n",
    "\n",
    "    feature_columns = [col for col in df_train.columns if col not in [\"label\", \"exp_name\"]]\n",
    "    scaler = StandardScaler()\n",
    "    scaler.fit(df_train[feature_columns])\n",
    "    mean = scaler.mean_\n",
    "    std = scaler.scale_\n",
    "\n",
    "    train_dataset = SensorDataset(df = df_train,\n",
    "                                  label_encoder=label_encoder,\n",
    "                                  exp_name_to_label=exp_name_to_label,\n",
    "                                  mean=mean,\n",
    "                                  std=std,\n",
    "                                  N=N)\n",
    "    \n",
    "    val_dataset = SensorDataset(df = df_val,\n",
    "                                label_encoder=label_encoder,\n",
    "                                exp_name_to_label=exp_name_to_label,\n",
    "                                mean=mean,\n",
    "                                std=std,\n",
    "                                N=N)\n",
    "    \n",
    "    test_dataset = SensorDataset(df = df_test,\n",
    "                                 label_encoder=label_encoder,\n",
    "                                 exp_name_to_label=exp_name_to_label,\n",
    "                                 mean=mean,\n",
    "                                 std=std,\n",
    "                                 N=N)\n",
    "    \n",
    "    print(f\"\\nFold {fold}/{folds} -> Train: {len(train_dataset)} (exp: {len(df_train['exp_name'].unique())}), \",\n",
    "        f\"Val: {len(val_dataset)} (exp: {len(df_val['exp_name'].unique())}), \",\n",
    "        f\"Test: {len(test_dataset)} (exp: {len(df_test['exp_name'].unique())})\")\n",
    "    \n",
    "    train_loader = DataLoader(train_dataset, batch_size=32, shuffle=True, num_workers=4, persistent_workers=True)\n",
    "    val_loader = DataLoader(val_dataset, batch_size=32, shuffle=False, num_workers=4, persistent_workers=True)\n",
    "    test_loader = DataLoader(test_dataset, batch_size=32, shuffle=False, num_workers=4, persistent_workers=True)\n",
    "\n",
    "    model = EncoderMLPClassifier(\n",
    "        num_features=len(feature_columns),\n",
    "        window_size=N,\n",
    "        latent_dim=latent_dim,\n",
    "        hidden_dim=hidden_dim,\n",
    "        num_classes=2,\n",
    "        lr=1e-4,\n",
    "        dropout=0.2,\n",
    "        weight_decay=1e-5\n",
    "    )\n",
    "\n",
    "    early_stop_callback = EarlyStopping(\n",
    "        monitor=\"val_loss\",\n",
    "        patience=5,\n",
    "        verbose=False,\n",
    "        mode=\"min\"\n",
    "    )\n",
    "\n",
    "    trainer = Trainer(\n",
    "        max_epochs=MAX_EPOCHS,\n",
    "        callbacks=[early_stop_callback],\n",
    "        enable_model_summary=False,  # <- Hides the model summary\n",
    "        accelerator=\"gpu\" if torch.cuda.is_available() else \"cpu\",\n",
    "        devices=1\n",
    "    )\n",
    "\n",
    "    trainer.fit(model, train_loader, val_loader)\n",
    "    # Save the model\n",
    "    output_name = f\"binaryETHvsACE/binaryETHvsACE_EMLP_h{hidden_dim}_l{latent_dim}_{fold}.ckpt\"\n",
    "    model_path = os.path.join(model_output_path, output_name)\n",
    "    trainer.save_checkpoint(model_path)\n",
    "\n",
    "    # Test the model\n",
    "    trainer.test(model, test_loader)\n",
    "\n",
    "    _, train_exp_stats = get_stats(model_path, train_loader, len(label_encoder.classes_), device)\n",
    "    train_performance, _, _ = compute_experiment_performance(train_exp_stats)\n",
    "    print(f\"Train Performance: {train_performance}\")\n",
    "\n",
    "    _, val_exp_stats = get_stats(model_path, val_loader, len(label_encoder.classes_), device)\n",
    "    val_performance, _, _ = compute_experiment_performance(val_exp_stats)\n",
    "    print(f\"Validation Performance: {val_performance}\")\n",
    "\n",
    "    _, test_exp_stats = get_stats(model_path, test_loader, len(label_encoder.classes_), device)\n",
    "    test_performance, _, _ = compute_experiment_performance(test_exp_stats)\n",
    "    print(f\"Test Performance: {test_performance}\")"
   ]
  }
 ],
 "metadata": {
  "kernelspec": {
   "display_name": "venv",
   "language": "python",
   "name": "python3"
  },
  "language_info": {
   "codemirror_mode": {
    "name": "ipython",
    "version": 3
   },
   "file_extension": ".py",
   "mimetype": "text/x-python",
   "name": "python",
   "nbconvert_exporter": "python",
   "pygments_lexer": "ipython3",
   "version": "3.11.9"
  }
 },
 "nbformat": 4,
 "nbformat_minor": 5
}
