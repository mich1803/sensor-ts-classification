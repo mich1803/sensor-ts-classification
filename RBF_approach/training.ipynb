{
 "cells": [
  {
   "cell_type": "markdown",
   "id": "09792fde",
   "metadata": {},
   "source": [
    "# Training Notebook for the RBF Approach"
   ]
  },
  {
   "cell_type": "markdown",
   "id": "1170b661",
   "metadata": {},
   "source": [
    "### Import Dependencies"
   ]
  },
  {
   "cell_type": "code",
   "execution_count": 1,
   "id": "1e5bb7a1",
   "metadata": {},
   "outputs": [],
   "source": [
    "import torch\n",
    "from torch.utils.data import DataLoader\n",
    "import numpy as np\n",
    "from sklearn.preprocessing import StandardScaler, LabelEncoder\n",
    "import pandas as pd\n",
    "import pytorch_lightning as pl\n",
    "from pytorch_lightning import Trainer\n",
    "from pytorch_lightning.callbacks import EarlyStopping, ModelCheckpoint\n",
    "import os\n",
    "from utils import *\n",
    "import joblib\n",
    "\n",
    "model_output_path = 'models'\n",
    "os.makedirs(model_output_path, exist_ok=True)"
   ]
  },
  {
   "cell_type": "code",
   "execution_count": 2,
   "id": "a33f3592",
   "metadata": {},
   "outputs": [
    {
     "name": "stderr",
     "output_type": "stream",
     "text": [
      "Seed set to 42\n"
     ]
    }
   ],
   "source": [
    "#set random seed for reproducibility\n",
    "np.random.seed(42)\n",
    "torch.manual_seed(42)\n",
    "torch.cuda.manual_seed(42)\n",
    "pl.seed_everything(42)\n",
    "torch.backends.cudnn.deterministic = True"
   ]
  },
  {
   "cell_type": "markdown",
   "id": "3701f8b2",
   "metadata": {},
   "source": [
    "### Dataset & Dataloader Definition"
   ]
  },
  {
   "cell_type": "code",
   "execution_count": 3,
   "id": "2f87e83f",
   "metadata": {},
   "outputs": [
    {
     "name": "stdout",
     "output_type": "stream",
     "text": [
      "# labels =  17\n"
     ]
    }
   ],
   "source": [
    "df_filtered = pd.read_csv(\"rbf_features.csv\")\n",
    "df_train = pd.read_csv(\"splits/train.csv\")\n",
    "df_val = pd.read_csv(\"splits/val.csv\")\n",
    "df_test = pd.read_csv(\"splits/test.csv\")\n",
    "\n",
    "# Preprocessing\n",
    "feature_columns = [col for col in df_train.columns if col not in [\"label\", \"exp_name\"]]\n",
    "scaler = StandardScaler()\n",
    "scaler.fit(df_train[feature_columns])\n",
    "mean = scaler.mean_\n",
    "std = scaler.scale_\n",
    "\n",
    "# Label encoding\n",
    "exp_labels = df_filtered.groupby(\"exp_name\")[\"label\"].first()\n",
    "label_encoder = LabelEncoder()\n",
    "label_encoder.fit(exp_labels.values)\n",
    "exp_name_to_label = exp_labels.to_dict()\n",
    "print(\"# labels = \", len(label_encoder.classes_))\n",
    "\n",
    "train_dataset = SensorDataset(df_train, exp_name_to_label, label_encoder, mean, std)\n",
    "val_dataset   = SensorDataset(df_val,   exp_name_to_label, label_encoder, mean, std)\n",
    "test_dataset  = SensorDataset(df_test,  exp_name_to_label, label_encoder, mean, std)"
   ]
  },
  {
   "cell_type": "code",
   "execution_count": 4,
   "id": "77a7f2f7",
   "metadata": {},
   "outputs": [
    {
     "name": "stdout",
     "output_type": "stream",
     "text": [
      "Train dataset size: 339\n",
      "Validation dataset size: 41\n",
      "Test dataset size: 41\n"
     ]
    }
   ],
   "source": [
    "print(f\"Train dataset size: {len(train_dataset)}\")\n",
    "print(f\"Validation dataset size: {len(val_dataset)}\")\n",
    "print(f\"Test dataset size: {len(test_dataset)}\")"
   ]
  },
  {
   "cell_type": "code",
   "execution_count": 5,
   "id": "274b86df",
   "metadata": {},
   "outputs": [],
   "source": [
    "BATCH_SIZE = 16\n",
    "\n",
    "train_loader = DataLoader(train_dataset, batch_size=BATCH_SIZE, shuffle=True, drop_last=True)\n",
    "val_loader = DataLoader(val_dataset, batch_size=BATCH_SIZE, shuffle=False)\n",
    "test_loader = DataLoader(test_dataset, batch_size=BATCH_SIZE, shuffle=False)"
   ]
  },
  {
   "cell_type": "markdown",
   "id": "d79c0f5a",
   "metadata": {},
   "source": [
    "### Model Training"
   ]
  },
  {
   "cell_type": "markdown",
   "id": "2d30afe6",
   "metadata": {},
   "source": [
    "#### MLP"
   ]
  },
  {
   "cell_type": "markdown",
   "id": "a01f6b5a",
   "metadata": {},
   "source": [
    "hidden dimension = 64"
   ]
  },
  {
   "cell_type": "code",
   "execution_count": 6,
   "id": "e3b4fa76",
   "metadata": {},
   "outputs": [],
   "source": [
    "hidden_dim = [64]\n",
    "model = MLPClassifier(\n",
    "    num_features=len(feature_columns),\n",
    "    hidden_dims=hidden_dim,\n",
    "    num_classes=len(label_encoder.classes_),\n",
    "    lr=1e-4,\n",
    "    dropout=0.2,\n",
    "    weight_decay=1e-5\n",
    ")"
   ]
  },
  {
   "cell_type": "code",
   "execution_count": null,
   "id": "834e271c",
   "metadata": {},
   "outputs": [
    {
     "name": "stderr",
     "output_type": "stream",
     "text": [
      "You are using the plain ModelCheckpoint callback. Consider using LitModelCheckpoint which with seamless uploading to Model registry.\n"
     ]
    },
    {
     "name": "stderr",
     "output_type": "stream",
     "text": [
      "GPU available: True (cuda), used: True\n",
      "TPU available: False, using: 0 TPU cores\n",
      "HPU available: False, using: 0 HPUs\n",
      "c:\\Users\\miche\\OneDrive\\Desktop\\tesi\\repo-tesi\\venv\\Lib\\site-packages\\pytorch_lightning\\trainer\\connectors\\logger_connector\\logger_connector.py:76: Starting from v1.9.0, `tensorboardX` has been removed as a dependency of the `pytorch_lightning` package, due to potential conflicts with other packages in the ML ecosystem. For this reason, `logger=True` will use `CSVLogger` as the default logger, unless the `tensorboard` or `tensorboardX` packages are found. Please `pip install lightning[extra]` or one of them to enable TensorBoard support by default\n",
      "LOCAL_RANK: 0 - CUDA_VISIBLE_DEVICES: [0]\n",
      "\n",
      "  | Name    | Type             | Params | Mode \n",
      "-----------------------------------------------------\n",
      "0 | model   | Sequential       | 6.3 K  | train\n",
      "1 | loss_fn | CrossEntropyLoss | 0      | train\n",
      "-----------------------------------------------------\n",
      "6.3 K     Trainable params\n",
      "0         Non-trainable params\n",
      "6.3 K     Total params\n",
      "0.025     Total estimated model params size (MB)\n",
      "6         Modules in train mode\n",
      "0         Modules in eval mode\n"
     ]
    },
    {
     "name": "stdout",
     "output_type": "stream",
     "text": [
      "Sanity Checking: |          | 0/? [00:00<?, ?it/s]"
     ]
    },
    {
     "name": "stderr",
     "output_type": "stream",
     "text": [
      "c:\\Users\\miche\\OneDrive\\Desktop\\tesi\\repo-tesi\\venv\\Lib\\site-packages\\pytorch_lightning\\trainer\\connectors\\data_connector.py:425: The 'val_dataloader' does not have many workers which may be a bottleneck. Consider increasing the value of the `num_workers` argument` to `num_workers=11` in the `DataLoader` to improve performance.\n"
     ]
    },
    {
     "name": "stdout",
     "output_type": "stream",
     "text": [
      "                                                                           "
     ]
    },
    {
     "name": "stderr",
     "output_type": "stream",
     "text": [
      "c:\\Users\\miche\\OneDrive\\Desktop\\tesi\\repo-tesi\\venv\\Lib\\site-packages\\pytorch_lightning\\trainer\\connectors\\data_connector.py:425: The 'train_dataloader' does not have many workers which may be a bottleneck. Consider increasing the value of the `num_workers` argument` to `num_workers=11` in the `DataLoader` to improve performance.\n"
     ]
    },
    {
     "name": "stdout",
     "output_type": "stream",
     "text": [
      "Epoch 597: 100%|██████████| 21/21 [00:00<00:00, 21.73it/s, v_num=0, train_acc=0.312, val_acc=0.341] \n"
     ]
    }
   ],
   "source": [
    "MAX_EPOCHS = 1000\n",
    "early_stop_callback = EarlyStopping(\n",
    "    monitor=\"val_loss\",\n",
    "    patience=MAX_EPOCHS // 10,\n",
    "    verbose=False,\n",
    "    mode=\"min\"\n",
    ")\n",
    "\n",
    "trainer = Trainer(\n",
    "    max_epochs=MAX_EPOCHS,\n",
    "    log_every_n_steps=20,\n",
    "    callbacks=[early_stop_callback],\n",
    "    accelerator=\"gpu\" if torch.cuda.is_available() else \"cpu\",\n",
    "    devices=1\n",
    ")\n",
    "\n",
    "trainer.fit(model, train_loader, val_loader)\n",
    "# Save the model\n",
    "output_name = f\"MLP_h{hidden_dim}_{now_date()}.ckpt\"\n",
    "trainer.save_checkpoint(os.path.join(model_output_path, output_name))"
   ]
  },
  {
   "cell_type": "code",
   "execution_count": 13,
   "id": "586b4278",
   "metadata": {},
   "outputs": [
    {
     "name": "stderr",
     "output_type": "stream",
     "text": [
      "LOCAL_RANK: 0 - CUDA_VISIBLE_DEVICES: [0]\n",
      "c:\\Users\\miche\\OneDrive\\Desktop\\tesi\\repo-tesi\\venv\\Lib\\site-packages\\pytorch_lightning\\trainer\\connectors\\data_connector.py:425: The 'test_dataloader' does not have many workers which may be a bottleneck. Consider increasing the value of the `num_workers` argument` to `num_workers=11` in the `DataLoader` to improve performance.\n"
     ]
    },
    {
     "name": "stdout",
     "output_type": "stream",
     "text": [
      "Testing DataLoader 0: 100%|██████████| 3/3 [00:00<00:00,  8.81it/s]\n",
      "────────────────────────────────────────────────────────────────────────────────────────────────────────────────────────\n",
      "       Test metric             DataLoader 0\n",
      "────────────────────────────────────────────────────────────────────────────────────────────────────────────────────────\n",
      "        test_acc            0.26829269528388977\n",
      "        test_loss            2.457026481628418\n",
      "────────────────────────────────────────────────────────────────────────────────────────────────────────────────────────\n"
     ]
    },
    {
     "data": {
      "image/png": "[encoded data removed]",
      "text/plain": [
       "<Figure size 800x600 with 2 Axes>"
      ]
     },
     "metadata": {},
     "output_type": "display_data"
    }
   ],
   "source": [
    "model = MLPClassifier.load_from_checkpoint(os.path.join(model_output_path, output_name))\n",
    "model.eval()\n",
    "trainer.test(model, test_loader)\n",
    "plot_confusion_matrix(model, test_loader)"
   ]
  },
  {
   "cell_type": "markdown",
   "id": "f8dcd193",
   "metadata": {},
   "source": [
    "hidden dim = 256"
   ]
  },
  {
   "cell_type": "code",
   "execution_count": 14,
   "id": "f8661f60",
   "metadata": {},
   "outputs": [],
   "source": [
    "hidden_dim = [256]\n",
    "model = MLPClassifier(\n",
    "    num_features=len(feature_columns),\n",
    "    hidden_dims=hidden_dim,\n",
    "    num_classes=len(label_encoder.classes_),\n",
    "    lr=1e-4,\n",
    "    dropout=0.2,\n",
    "    weight_decay=1e-5\n",
    ")"
   ]
  },
  {
   "cell_type": "code",
   "execution_count": 15,
   "id": "0d6ed89b",
   "metadata": {},
   "outputs": [
    {
     "name": "stderr",
     "output_type": "stream",
     "text": [
      "You are using the plain ModelCheckpoint callback. Consider using LitModelCheckpoint which with seamless uploading to Model registry.\n",
      "GPU available: True (cuda), used: True\n",
      "TPU available: False, using: 0 TPU cores\n",
      "HPU available: False, using: 0 HPUs\n",
      "LOCAL_RANK: 0 - CUDA_VISIBLE_DEVICES: [0]\n",
      "\n",
      "  | Name    | Type             | Params | Mode \n",
      "-----------------------------------------------------\n",
      "0 | model   | Sequential       | 25.1 K | train\n",
      "1 | loss_fn | CrossEntropyLoss | 0      | train\n",
      "-----------------------------------------------------\n",
      "25.1 K    Trainable params\n",
      "0         Non-trainable params\n",
      "25.1 K    Total params\n",
      "0.100     Total estimated model params size (MB)\n",
      "6         Modules in train mode\n",
      "0         Modules in eval mode\n"
     ]
    },
    {
     "name": "stdout",
     "output_type": "stream",
     "text": [
      "                                                                            "
     ]
    },
    {
     "name": "stderr",
     "output_type": "stream",
     "text": [
      "c:\\Users\\miche\\OneDrive\\Desktop\\tesi\\repo-tesi\\venv\\Lib\\site-packages\\pytorch_lightning\\trainer\\connectors\\data_connector.py:425: The 'val_dataloader' does not have many workers which may be a bottleneck. Consider increasing the value of the `num_workers` argument` to `num_workers=11` in the `DataLoader` to improve performance.\n",
      "c:\\Users\\miche\\OneDrive\\Desktop\\tesi\\repo-tesi\\venv\\Lib\\site-packages\\pytorch_lightning\\trainer\\connectors\\data_connector.py:425: The 'train_dataloader' does not have many workers which may be a bottleneck. Consider increasing the value of the `num_workers` argument` to `num_workers=11` in the `DataLoader` to improve performance.\n"
     ]
    },
    {
     "name": "stdout",
     "output_type": "stream",
     "text": [
      "Epoch 715: 100%|██████████| 21/21 [00:01<00:00, 19.02it/s, v_num=2, train_acc=0.688, val_acc=0.463] \n"
     ]
    }
   ],
   "source": [
    "MAX_EPOCHS = 1000\n",
    "early_stop_callback = EarlyStopping(\n",
    "    monitor=\"val_loss\",\n",
    "    patience=MAX_EPOCHS // 10,\n",
    "    verbose=False,\n",
    "    mode=\"min\"\n",
    ")\n",
    "\n",
    "trainer = Trainer(\n",
    "    max_epochs=MAX_EPOCHS,\n",
    "    log_every_n_steps=20,\n",
    "    callbacks=[early_stop_callback],\n",
    "    accelerator=\"gpu\" if torch.cuda.is_available() else \"cpu\",\n",
    "    devices=1\n",
    ")\n",
    "\n",
    "trainer.fit(model, train_loader, val_loader)\n",
    "# Save the model\n",
    "output_name = f\"MLP_h{hidden_dim}_{now_date()}.ckpt\"\n",
    "trainer.save_checkpoint(os.path.join(model_output_path, output_name))"
   ]
  },
  {
   "cell_type": "code",
   "execution_count": 16,
   "id": "33e8da3f",
   "metadata": {},
   "outputs": [
    {
     "name": "stderr",
     "output_type": "stream",
     "text": [
      "LOCAL_RANK: 0 - CUDA_VISIBLE_DEVICES: [0]\n",
      "c:\\Users\\miche\\OneDrive\\Desktop\\tesi\\repo-tesi\\venv\\Lib\\site-packages\\pytorch_lightning\\trainer\\connectors\\data_connector.py:425: The 'test_dataloader' does not have many workers which may be a bottleneck. Consider increasing the value of the `num_workers` argument` to `num_workers=11` in the `DataLoader` to improve performance.\n"
     ]
    },
    {
     "name": "stdout",
     "output_type": "stream",
     "text": [
      "Testing DataLoader 0: 100%|██████████| 3/3 [00:00<00:00, 16.47it/s]\n",
      "────────────────────────────────────────────────────────────────────────────────────────────────────────────────────────\n",
      "       Test metric             DataLoader 0\n",
      "────────────────────────────────────────────────────────────────────────────────────────────────────────────────────────\n",
      "        test_acc            0.39024388790130615\n",
      "        test_loss            2.48000431060791\n",
      "────────────────────────────────────────────────────────────────────────────────────────────────────────────────────────\n"
     ]
    },
    {
     "data": {
      "image/png": "[encoded data removed]",
      "text/plain": [
       "<Figure size 800x600 with 2 Axes>"
      ]
     },
     "metadata": {},
     "output_type": "display_data"
    }
   ],
   "source": [
    "model = MLPClassifier.load_from_checkpoint(os.path.join(model_output_path, output_name))\n",
    "model.eval()\n",
    "trainer.test(model, test_loader)\n",
    "plot_confusion_matrix(model, test_loader)"
   ]
  },
  {
   "cell_type": "markdown",
   "id": "6df7e07b",
   "metadata": {},
   "source": [
    "2 hidden dims: 64 -> 64"
   ]
  },
  {
   "cell_type": "code",
   "execution_count": 17,
   "id": "7157646c",
   "metadata": {},
   "outputs": [],
   "source": [
    "hidden_dim = [64, 64]\n",
    "model = MLPClassifier(\n",
    "    num_features=len(feature_columns),\n",
    "    hidden_dims=hidden_dim,\n",
    "    num_classes=len(label_encoder.classes_),\n",
    "    lr=1e-4,\n",
    "    dropout=0.2,\n",
    "    weight_decay=1e-5\n",
    ")"
   ]
  },
  {
   "cell_type": "code",
   "execution_count": 18,
   "id": "4628d4ff",
   "metadata": {},
   "outputs": [
    {
     "name": "stderr",
     "output_type": "stream",
     "text": [
      "You are using the plain ModelCheckpoint callback. Consider using LitModelCheckpoint which with seamless uploading to Model registry.\n",
      "GPU available: True (cuda), used: True\n",
      "TPU available: False, using: 0 TPU cores\n",
      "HPU available: False, using: 0 HPUs\n",
      "LOCAL_RANK: 0 - CUDA_VISIBLE_DEVICES: [0]\n",
      "\n",
      "  | Name    | Type             | Params | Mode \n",
      "-----------------------------------------------------\n",
      "0 | model   | Sequential       | 10.4 K | train\n",
      "1 | loss_fn | CrossEntropyLoss | 0      | train\n",
      "-----------------------------------------------------\n",
      "10.4 K    Trainable params\n",
      "0         Non-trainable params\n",
      "10.4 K    Total params\n",
      "0.042     Total estimated model params size (MB)\n",
      "9         Modules in train mode\n",
      "0         Modules in eval mode\n"
     ]
    },
    {
     "name": "stdout",
     "output_type": "stream",
     "text": [
      "                                                                           "
     ]
    },
    {
     "name": "stderr",
     "output_type": "stream",
     "text": [
      "c:\\Users\\miche\\OneDrive\\Desktop\\tesi\\repo-tesi\\venv\\Lib\\site-packages\\pytorch_lightning\\trainer\\connectors\\data_connector.py:425: The 'val_dataloader' does not have many workers which may be a bottleneck. Consider increasing the value of the `num_workers` argument` to `num_workers=11` in the `DataLoader` to improve performance.\n",
      "c:\\Users\\miche\\OneDrive\\Desktop\\tesi\\repo-tesi\\venv\\Lib\\site-packages\\pytorch_lightning\\trainer\\connectors\\data_connector.py:425: The 'train_dataloader' does not have many workers which may be a bottleneck. Consider increasing the value of the `num_workers` argument` to `num_workers=11` in the `DataLoader` to improve performance.\n"
     ]
    },
    {
     "name": "stdout",
     "output_type": "stream",
     "text": [
      "Epoch 999: 100%|██████████| 21/21 [00:00<00:00, 22.79it/s, v_num=3, train_acc=0.562, val_acc=0.439] "
     ]
    },
    {
     "name": "stderr",
     "output_type": "stream",
     "text": [
      "`Trainer.fit` stopped: `max_epochs=1000` reached.\n"
     ]
    },
    {
     "name": "stdout",
     "output_type": "stream",
     "text": [
      "Epoch 999: 100%|██████████| 21/21 [00:00<00:00, 22.20it/s, v_num=3, train_acc=0.562, val_acc=0.439]\n"
     ]
    }
   ],
   "source": [
    "MAX_EPOCHS = 1000\n",
    "early_stop_callback = EarlyStopping(\n",
    "    monitor=\"val_loss\",\n",
    "    patience=MAX_EPOCHS // 10,\n",
    "    verbose=False,\n",
    "    mode=\"min\"\n",
    ")\n",
    "\n",
    "trainer = Trainer(\n",
    "    max_epochs=MAX_EPOCHS,\n",
    "    log_every_n_steps=20,\n",
    "    callbacks=[early_stop_callback],\n",
    "    accelerator=\"gpu\" if torch.cuda.is_available() else \"cpu\",\n",
    "    devices=1\n",
    ")\n",
    "\n",
    "trainer.fit(model, train_loader, val_loader)\n",
    "# Save the model\n",
    "output_name = f\"MLP_h{hidden_dim}_{now_date()}.ckpt\"\n",
    "trainer.save_checkpoint(os.path.join(model_output_path, output_name))"
   ]
  },
  {
   "cell_type": "code",
   "execution_count": 19,
   "id": "5d9d0470",
   "metadata": {},
   "outputs": [
    {
     "name": "stderr",
     "output_type": "stream",
     "text": [
      "LOCAL_RANK: 0 - CUDA_VISIBLE_DEVICES: [0]\n",
      "c:\\Users\\miche\\OneDrive\\Desktop\\tesi\\repo-tesi\\venv\\Lib\\site-packages\\pytorch_lightning\\trainer\\connectors\\data_connector.py:425: The 'test_dataloader' does not have many workers which may be a bottleneck. Consider increasing the value of the `num_workers` argument` to `num_workers=11` in the `DataLoader` to improve performance.\n"
     ]
    },
    {
     "name": "stdout",
     "output_type": "stream",
     "text": [
      "Testing DataLoader 0: 100%|██████████| 3/3 [00:00<00:00, 13.75it/s]\n",
      "────────────────────────────────────────────────────────────────────────────────────────────────────────────────────────\n",
      "       Test metric             DataLoader 0\n",
      "────────────────────────────────────────────────────────────────────────────────────────────────────────────────────────\n",
      "        test_acc            0.4146341383457184\n",
      "        test_loss            2.153029680252075\n",
      "────────────────────────────────────────────────────────────────────────────────────────────────────────────────────────\n"
     ]
    },
    {
     "data": {
      "image/png": "[encoded data removed]",
      "text/plain": [
       "<Figure size 800x600 with 2 Axes>"
      ]
     },
     "metadata": {},
     "output_type": "display_data"
    }
   ],
   "source": [
    "model = MLPClassifier.load_from_checkpoint(os.path.join(model_output_path, output_name))\n",
    "model.eval()\n",
    "trainer.test(model, test_loader)\n",
    "plot_confusion_matrix(model, test_loader)"
   ]
  },
  {
   "cell_type": "markdown",
   "id": "225a2111",
   "metadata": {},
   "source": [
    "#### Random Forest & KNN"
   ]
  },
  {
   "cell_type": "code",
   "execution_count": 20,
   "id": "97164021",
   "metadata": {},
   "outputs": [],
   "source": [
    "def dataset_to_numpy(dataset):\n",
    "    features = []\n",
    "    labels = []\n",
    "    for i in range(len(dataset)):\n",
    "        x, y, _ = dataset[i]\n",
    "        features.append(x.numpy())\n",
    "        labels.append(y)\n",
    "    return np.stack(features), np.array(labels)\n",
    "\n",
    "# Convert datasets to numpy\n",
    "X_train, y_train = dataset_to_numpy(train_dataset)\n",
    "X_val, y_val = dataset_to_numpy(val_dataset)\n",
    "X_test, y_test = dataset_to_numpy(test_dataset)"
   ]
  },
  {
   "cell_type": "code",
   "execution_count": 21,
   "id": "81f914a4",
   "metadata": {},
   "outputs": [
    {
     "name": "stdout",
     "output_type": "stream",
     "text": [
      "Random Forest Results:\n",
      "Accuracy: 0.43902439024390244\n",
      "                    precision    recall  f1-score   support\n",
      "\n",
      "       ACETIC_ACID       1.00      1.00      1.00         2\n",
      "           ACETONE       0.43      1.00      0.60         3\n",
      "               AIR       0.67      1.00      0.80         2\n",
      "           AMMONIA       0.17      0.50      0.25         2\n",
      " AMMONIUM_CHLORIDE       0.00      0.00      0.00         2\n",
      "   CALCIUM_NITRATE       0.33      0.50      0.40         2\n",
      "            DIESEL       0.43      0.50      0.46         6\n",
      "           ETHANOL       0.00      0.00      0.00         3\n",
      "       FORMIC_ACID       1.00      0.50      0.67         2\n",
      "          GASOLINE       0.50      0.50      0.50         2\n",
      "HYDROGENE_PEROXIDE       0.00      0.00      0.00         2\n",
      "       ISOPROPANOL       0.00      0.00      0.00         2\n",
      "          KEROSENE       0.50      0.50      0.50         2\n",
      "            NAPHTA       0.00      0.00      0.00         2\n",
      "      NITROMETHANE       0.50      0.33      0.40         3\n",
      "              UREA       0.33      0.50      0.40         2\n",
      "       WATER_VAPOR       1.00      0.50      0.67         2\n",
      "\n",
      "          accuracy                           0.44        41\n",
      "         macro avg       0.40      0.43      0.39        41\n",
      "      weighted avg       0.40      0.44      0.39        41\n",
      "\n"
     ]
    },
    {
     "name": "stderr",
     "output_type": "stream",
     "text": [
      "c:\\Users\\miche\\OneDrive\\Desktop\\tesi\\repo-tesi\\venv\\Lib\\site-packages\\sklearn\\metrics\\_classification.py:1565: UndefinedMetricWarning: Precision is ill-defined and being set to 0.0 in labels with no predicted samples. Use `zero_division` parameter to control this behavior.\n",
      "  _warn_prf(average, modifier, f\"{metric.capitalize()} is\", len(result))\n",
      "c:\\Users\\miche\\OneDrive\\Desktop\\tesi\\repo-tesi\\venv\\Lib\\site-packages\\sklearn\\metrics\\_classification.py:1565: UndefinedMetricWarning: Precision is ill-defined and being set to 0.0 in labels with no predicted samples. Use `zero_division` parameter to control this behavior.\n",
      "  _warn_prf(average, modifier, f\"{metric.capitalize()} is\", len(result))\n",
      "c:\\Users\\miche\\OneDrive\\Desktop\\tesi\\repo-tesi\\venv\\Lib\\site-packages\\sklearn\\metrics\\_classification.py:1565: UndefinedMetricWarning: Precision is ill-defined and being set to 0.0 in labels with no predicted samples. Use `zero_division` parameter to control this behavior.\n",
      "  _warn_prf(average, modifier, f\"{metric.capitalize()} is\", len(result))\n"
     ]
    },
    {
     "data": {
      "text/plain": [
       "['models\\\\RandomForest_17052025_1511.joblib']"
      ]
     },
     "execution_count": 21,
     "metadata": {},
     "output_type": "execute_result"
    }
   ],
   "source": [
    "# Option 1: Random Forest\n",
    "rf_model = RandomForestClassifier(n_estimators=100, random_state=42)\n",
    "rf_model.fit(X_train, y_train)\n",
    "\n",
    "# Evaluate Random Forest\n",
    "print(\"Random Forest Results:\")\n",
    "y_pred_rf = rf_model.predict(X_test)\n",
    "print(\"Accuracy:\", accuracy_score(y_test, y_pred_rf))\n",
    "print(classification_report(y_test, y_pred_rf, target_names=label_encoder.classes_))\n",
    "\n",
    "# Save the model\n",
    "rf_output_name = f\"RandomForest_{now_date()}.joblib\"\n",
    "joblib.dump(rf_model, os.path.join(model_output_path, rf_output_name))"
   ]
  },
  {
   "cell_type": "code",
   "execution_count": 22,
   "id": "89810aaf",
   "metadata": {},
   "outputs": [
    {
     "name": "stdout",
     "output_type": "stream",
     "text": [
      "\n",
      "K-Nearest Neighbors Results:\n",
      "Accuracy: 0.2682926829268293\n",
      "                    precision    recall  f1-score   support\n",
      "\n",
      "       ACETIC_ACID       0.33      0.50      0.40         2\n",
      "           ACETONE       0.17      0.33      0.22         3\n",
      "               AIR       0.67      1.00      0.80         2\n",
      "           AMMONIA       0.17      0.50      0.25         2\n",
      " AMMONIUM_CHLORIDE       0.00      0.00      0.00         2\n",
      "   CALCIUM_NITRATE       0.33      0.50      0.40         2\n",
      "            DIESEL       0.33      0.33      0.33         6\n",
      "           ETHANOL       0.00      0.00      0.00         3\n",
      "       FORMIC_ACID       1.00      0.50      0.67         2\n",
      "          GASOLINE       0.00      0.00      0.00         2\n",
      "HYDROGENE_PEROXIDE       0.00      0.00      0.00         2\n",
      "       ISOPROPANOL       0.00      0.00      0.00         2\n",
      "          KEROSENE       0.00      0.00      0.00         2\n",
      "            NAPHTA       0.33      0.50      0.40         2\n",
      "      NITROMETHANE       0.25      0.33      0.29         3\n",
      "              UREA       0.00      0.00      0.00         2\n",
      "       WATER_VAPOR       0.00      0.00      0.00         2\n",
      "\n",
      "          accuracy                           0.27        41\n",
      "         macro avg       0.21      0.26      0.22        41\n",
      "      weighted avg       0.22      0.27      0.23        41\n",
      "\n"
     ]
    },
    {
     "name": "stderr",
     "output_type": "stream",
     "text": [
      "c:\\Users\\miche\\OneDrive\\Desktop\\tesi\\repo-tesi\\venv\\Lib\\site-packages\\joblib\\externals\\loky\\backend\\context.py:136: UserWarning: Could not find the number of physical cores for the following reason:\n",
      "found 0 physical cores < 1\n",
      "Returning the number of logical cores instead. You can silence this warning by setting LOKY_MAX_CPU_COUNT to the number of cores you want to use.\n",
      "  warnings.warn(\n",
      "  File \"c:\\Users\\miche\\OneDrive\\Desktop\\tesi\\repo-tesi\\venv\\Lib\\site-packages\\joblib\\externals\\loky\\backend\\context.py\", line 282, in _count_physical_cores\n",
      "    raise ValueError(f\"found {cpu_count_physical} physical cores < 1\")\n",
      "c:\\Users\\miche\\OneDrive\\Desktop\\tesi\\repo-tesi\\venv\\Lib\\site-packages\\sklearn\\metrics\\_classification.py:1565: UndefinedMetricWarning: Precision is ill-defined and being set to 0.0 in labels with no predicted samples. Use `zero_division` parameter to control this behavior.\n",
      "  _warn_prf(average, modifier, f\"{metric.capitalize()} is\", len(result))\n",
      "c:\\Users\\miche\\OneDrive\\Desktop\\tesi\\repo-tesi\\venv\\Lib\\site-packages\\sklearn\\metrics\\_classification.py:1565: UndefinedMetricWarning: Precision is ill-defined and being set to 0.0 in labels with no predicted samples. Use `zero_division` parameter to control this behavior.\n",
      "  _warn_prf(average, modifier, f\"{metric.capitalize()} is\", len(result))\n",
      "c:\\Users\\miche\\OneDrive\\Desktop\\tesi\\repo-tesi\\venv\\Lib\\site-packages\\sklearn\\metrics\\_classification.py:1565: UndefinedMetricWarning: Precision is ill-defined and being set to 0.0 in labels with no predicted samples. Use `zero_division` parameter to control this behavior.\n",
      "  _warn_prf(average, modifier, f\"{metric.capitalize()} is\", len(result))\n"
     ]
    },
    {
     "data": {
      "text/plain": [
       "['models\\\\KNN_17052025_1511.joblib']"
      ]
     },
     "execution_count": 22,
     "metadata": {},
     "output_type": "execute_result"
    }
   ],
   "source": [
    "# Option 2: K-Nearest Neighbors\n",
    "knn_model = KNeighborsClassifier(n_neighbors=5)\n",
    "knn_model.fit(X_train, y_train)\n",
    "\n",
    "# Evaluate KNN\n",
    "print(\"\\nK-Nearest Neighbors Results:\")\n",
    "y_pred_knn = knn_model.predict(X_test)\n",
    "print(\"Accuracy:\", accuracy_score(y_test, y_pred_knn))\n",
    "print(classification_report(y_test, y_pred_knn, target_names=label_encoder.classes_))\n",
    "\n",
    "# Save the model\n",
    "knn_output_name = f\"KNN_{now_date()}.joblib\"\n",
    "joblib.dump(knn_model, os.path.join(model_output_path, knn_output_name))"
   ]
  }
 ],
 "metadata": {
  "kernelspec": {
   "display_name": "venv",
   "language": "python",
   "name": "python3"
  },
  "language_info": {
   "codemirror_mode": {
    "name": "ipython",
    "version": 3
   },
   "file_extension": ".py",
   "mimetype": "text/x-python",
   "name": "python",
   "nbconvert_exporter": "python",
   "pygments_lexer": "ipython3",
   "version": "3.11.9"
  }
 },
 "nbformat": 4,
 "nbformat_minor": 5
}
