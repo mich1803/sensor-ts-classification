{
 "cells": [
  {
   "cell_type": "markdown",
   "id": "af6ce83a",
   "metadata": {},
   "source": [
    "# Training Notebook for a Binary Classification using the Instant Time Approach"
   ]
  },
  {
   "cell_type": "markdown",
   "id": "2e48eac5",
   "metadata": {},
   "source": [
    "### Import Dependencies"
   ]
  },
  {
   "cell_type": "code",
   "execution_count": 4,
   "id": "a1dc3796",
   "metadata": {},
   "outputs": [],
   "source": [
    "import torch\n",
    "from torch.utils.data import DataLoader\n",
    "import numpy as np\n",
    "from sklearn.preprocessing import StandardScaler, LabelEncoder\n",
    "import pandas as pd\n",
    "import pytorch_lightning as pl\n",
    "from pytorch_lightning import Trainer\n",
    "from pytorch_lightning.callbacks import EarlyStopping, ModelCheckpoint\n",
    "import os\n",
    "from utils import *\n",
    "import json\n",
    "import random\n",
    "\n",
    "model_output_path = 'models'\n",
    "os.makedirs(model_output_path, exist_ok=True)\n",
    "device = torch.device('cuda' if torch.cuda.is_available() else 'cpu')"
   ]
  },
  {
   "cell_type": "code",
   "execution_count": 5,
   "id": "97b16d11",
   "metadata": {},
   "outputs": [
    {
     "name": "stderr",
     "output_type": "stream",
     "text": [
      "Seed set to 42\n"
     ]
    }
   ],
   "source": [
    "#set random seed for reproducibility\n",
    "random.seed(42)\n",
    "np.random.seed(42)\n",
    "torch.manual_seed(42)\n",
    "torch.cuda.manual_seed(42)\n",
    "pl.seed_everything(42)\n",
    "torch.backends.cudnn.deterministic = True"
   ]
  },
  {
   "cell_type": "markdown",
   "id": "1cdf66c8",
   "metadata": {},
   "source": [
    "### Datasets (k = 12 Folds Cross Validation) & Training of Encoder + MLP"
   ]
  },
  {
   "cell_type": "code",
   "execution_count": 6,
   "id": "390e1ba7",
   "metadata": {},
   "outputs": [],
   "source": [
    "folds = 12\n",
    "exp_names_per_fold = 3\n",
    "labels_to_include = ['ETHANOL', 'ACETONE']\n",
    "hidden_dim = 64\n",
    "MAX_EPOCHS = 25\n",
    "\n",
    "df = pd.read_csv(\"original_training_set_filtered.csv\")\n",
    "df = df[df['label'].isin(labels_to_include)]\n",
    "\n",
    "exp_labels = df.groupby(\"exp_name\")[\"label\"].first()\n",
    "label_encoder = LabelEncoder()\n",
    "label_encoder.fit(exp_labels.values)\n",
    "exp_name_to_label = exp_labels.to_dict()"
   ]
  },
  {
   "cell_type": "code",
   "execution_count": null,
   "id": "f124b34b",
   "metadata": {},
   "outputs": [
    {
     "name": "stderr",
     "output_type": "stream",
     "text": [
      "You are using the plain ModelCheckpoint callback. Consider using LitModelCheckpoint which with seamless uploading to Model registry.\n",
      "GPU available: True (cuda), used: True\n",
      "TPU available: False, using: 0 TPU cores\n",
      "HPU available: False, using: 0 HPUs\n",
      "c:\\Users\\miche\\OneDrive\\Desktop\\tesi\\repo-tesi\\venv\\Lib\\site-packages\\pytorch_lightning\\trainer\\connectors\\logger_connector\\logger_connector.py:76: Starting from v1.9.0, `tensorboardX` has been removed as a dependency of the `pytorch_lightning` package, due to potential conflicts with other packages in the ML ecosystem. For this reason, `logger=True` will use `CSVLogger` as the default logger, unless the `tensorboard` or `tensorboardX` packages are found. Please `pip install lightning[extra]` or one of them to enable TensorBoard support by default\n",
      "LOCAL_RANK: 0 - CUDA_VISIBLE_DEVICES: [0]\n"
     ]
    },
    {
     "name": "stdout",
     "output_type": "stream",
     "text": [
      "\n",
      "Fold 1/12 -> Train: 60854 (exp: 61),  Val: 6751 (exp: 6),  Test: 5966 (exp: 6)\n",
      "Epoch 24: 100%|██████████| 1902/1902 [01:12<00:00, 26.42it/s, v_num=0, train_loss=0.182, train_acc=1.000, val_loss=0.278, val_acc=0.865]"
     ]
    },
    {
     "name": "stderr",
     "output_type": "stream",
     "text": [
      "`Trainer.fit` stopped: `max_epochs=25` reached.\n"
     ]
    },
    {
     "name": "stdout",
     "output_type": "stream",
     "text": [
      "Epoch 24: 100%|██████████| 1902/1902 [01:12<00:00, 26.40it/s, v_num=0, train_loss=0.182, train_acc=1.000, val_loss=0.278, val_acc=0.865]\n"
     ]
    },
    {
     "name": "stderr",
     "output_type": "stream",
     "text": [
      "LOCAL_RANK: 0 - CUDA_VISIBLE_DEVICES: [0]\n"
     ]
    },
    {
     "name": "stdout",
     "output_type": "stream",
     "text": [
      "Testing DataLoader 0: 100%|██████████| 187/187 [00:05<00:00, 32.10it/s]\n",
      "────────────────────────────────────────────────────────────────────────────────────────────────────────────────────────\n",
      "       Test metric             DataLoader 0\n",
      "────────────────────────────────────────────────────────────────────────────────────────────────────────────────────────\n",
      "        test_acc            0.7497485876083374\n",
      "        test_loss           0.45618465542793274\n",
      "────────────────────────────────────────────────────────────────────────────────────────────────────────────────────────\n"
     ]
    },
    {
     "name": "stderr",
     "output_type": "stream",
     "text": [
      "100%|██████████| 1902/1902 [01:41<00:00, 18.72it/s]\n"
     ]
    },
    {
     "name": "stdout",
     "output_type": "stream",
     "text": [
      "Train Performance: 0.9836065573770492\n"
     ]
    },
    {
     "name": "stderr",
     "output_type": "stream",
     "text": [
      "100%|██████████| 211/211 [01:07<00:00,  3.11it/s]\n"
     ]
    },
    {
     "name": "stdout",
     "output_type": "stream",
     "text": [
      "Validation Performance: 0.8333333333333334\n"
     ]
    },
    {
     "name": "stderr",
     "output_type": "stream",
     "text": [
      "100%|██████████| 187/187 [01:07<00:00,  2.76it/s]\n"
     ]
    },
    {
     "name": "stdout",
     "output_type": "stream",
     "text": [
      "Test Performance: 0.8333333333333334\n",
      "\n",
      "Fold 2/12 -> Train: 62502 (exp: 61),  Val: 5966 (exp: 6),  Test: 5103 (exp: 6)\n"
     ]
    },
    {
     "name": "stderr",
     "output_type": "stream",
     "text": [
      "You are using the plain ModelCheckpoint callback. Consider using LitModelCheckpoint which with seamless uploading to Model registry.\n",
      "GPU available: True (cuda), used: True\n",
      "TPU available: False, using: 0 TPU cores\n",
      "HPU available: False, using: 0 HPUs\n",
      "LOCAL_RANK: 0 - CUDA_VISIBLE_DEVICES: [0]\n"
     ]
    },
    {
     "name": "stdout",
     "output_type": "stream",
     "text": [
      "Epoch 19: 100%|██████████| 1954/1954 [01:12<00:00, 27.11it/s, v_num=1, train_loss=0.071, train_acc=1.000, val_loss=0.402, val_acc=0.784] \n"
     ]
    },
    {
     "name": "stderr",
     "output_type": "stream",
     "text": [
      "LOCAL_RANK: 0 - CUDA_VISIBLE_DEVICES: [0]\n"
     ]
    },
    {
     "name": "stdout",
     "output_type": "stream",
     "text": [
      "Testing DataLoader 0: 100%|██████████| 160/160 [00:03<00:00, 45.06it/s]\n",
      "────────────────────────────────────────────────────────────────────────────────────────────────────────────────────────\n",
      "       Test metric             DataLoader 0\n",
      "────────────────────────────────────────────────────────────────────────────────────────────────────────────────────────\n",
      "        test_acc            0.8159905672073364\n",
      "        test_loss           0.39808669686317444\n",
      "────────────────────────────────────────────────────────────────────────────────────────────────────────────────────────\n"
     ]
    },
    {
     "name": "stderr",
     "output_type": "stream",
     "text": [
      "100%|██████████| 1954/1954 [01:34<00:00, 20.60it/s]\n"
     ]
    },
    {
     "name": "stdout",
     "output_type": "stream",
     "text": [
      "Train Performance: 1.0\n"
     ]
    },
    {
     "name": "stderr",
     "output_type": "stream",
     "text": [
      "100%|██████████| 187/187 [01:00<00:00,  3.09it/s]\n"
     ]
    },
    {
     "name": "stdout",
     "output_type": "stream",
     "text": [
      "Validation Performance: 0.8333333333333334\n"
     ]
    },
    {
     "name": "stderr",
     "output_type": "stream",
     "text": [
      "100%|██████████| 160/160 [01:02<00:00,  2.57it/s]\n"
     ]
    },
    {
     "name": "stdout",
     "output_type": "stream",
     "text": [
      "Test Performance: 0.8333333333333334\n",
      "\n",
      "Fold 3/12 -> Train: 62432 (exp: 61),  Val: 5103 (exp: 6),  Test: 6036 (exp: 6)\n"
     ]
    },
    {
     "name": "stderr",
     "output_type": "stream",
     "text": [
      "You are using the plain ModelCheckpoint callback. Consider using LitModelCheckpoint which with seamless uploading to Model registry.\n",
      "GPU available: True (cuda), used: True\n",
      "TPU available: False, using: 0 TPU cores\n",
      "HPU available: False, using: 0 HPUs\n",
      "LOCAL_RANK: 0 - CUDA_VISIBLE_DEVICES: [0]\n"
     ]
    },
    {
     "name": "stdout",
     "output_type": "stream",
     "text": [
      "Epoch 17: 100%|██████████| 1951/1951 [01:08<00:00, 28.44it/s, v_num=2, train_loss=0.324, train_acc=0.812, val_loss=0.462, val_acc=0.753]\n"
     ]
    },
    {
     "name": "stderr",
     "output_type": "stream",
     "text": [
      "LOCAL_RANK: 0 - CUDA_VISIBLE_DEVICES: [0]\n"
     ]
    },
    {
     "name": "stdout",
     "output_type": "stream",
     "text": [
      "Testing DataLoader 0: 100%|██████████| 189/189 [00:04<00:00, 44.57it/s]\n",
      "────────────────────────────────────────────────────────────────────────────────────────────────────────────────────────\n",
      "       Test metric             DataLoader 0\n",
      "────────────────────────────────────────────────────────────────────────────────────────────────────────────────────────\n",
      "        test_acc            0.8426110148429871\n",
      "        test_loss           0.3443835377693176\n",
      "────────────────────────────────────────────────────────────────────────────────────────────────────────────────────────\n"
     ]
    },
    {
     "name": "stderr",
     "output_type": "stream",
     "text": [
      "100%|██████████| 1951/1951 [01:34<00:00, 20.70it/s]\n"
     ]
    },
    {
     "name": "stdout",
     "output_type": "stream",
     "text": [
      "Train Performance: 0.9672131147540983\n"
     ]
    },
    {
     "name": "stderr",
     "output_type": "stream",
     "text": [
      "100%|██████████| 160/160 [01:01<00:00,  2.62it/s]\n"
     ]
    },
    {
     "name": "stdout",
     "output_type": "stream",
     "text": [
      "Validation Performance: 0.8333333333333334\n"
     ]
    },
    {
     "name": "stderr",
     "output_type": "stream",
     "text": [
      "100%|██████████| 189/189 [01:03<00:00,  3.00it/s]\n"
     ]
    },
    {
     "name": "stdout",
     "output_type": "stream",
     "text": [
      "Test Performance: 1.0\n",
      "\n",
      "Fold 4/12 -> Train: 61311 (exp: 61),  Val: 6036 (exp: 6),  Test: 6224 (exp: 6)\n"
     ]
    },
    {
     "name": "stderr",
     "output_type": "stream",
     "text": [
      "You are using the plain ModelCheckpoint callback. Consider using LitModelCheckpoint which with seamless uploading to Model registry.\n",
      "GPU available: True (cuda), used: True\n",
      "TPU available: False, using: 0 TPU cores\n",
      "HPU available: False, using: 0 HPUs\n",
      "LOCAL_RANK: 0 - CUDA_VISIBLE_DEVICES: [0]\n"
     ]
    },
    {
     "name": "stdout",
     "output_type": "stream",
     "text": [
      "Epoch 22: 100%|██████████| 1916/1916 [01:04<00:00, 29.69it/s, v_num=3, train_loss=0.234, train_acc=0.935, val_loss=0.340, val_acc=0.779] \n"
     ]
    },
    {
     "name": "stderr",
     "output_type": "stream",
     "text": [
      "LOCAL_RANK: 0 - CUDA_VISIBLE_DEVICES: [0]\n"
     ]
    },
    {
     "name": "stdout",
     "output_type": "stream",
     "text": [
      "Testing DataLoader 0: 100%|██████████| 195/195 [00:03<00:00, 49.20it/s]\n",
      "────────────────────────────────────────────────────────────────────────────────────────────────────────────────────────\n",
      "       Test metric             DataLoader 0\n",
      "────────────────────────────────────────────────────────────────────────────────────────────────────────────────────────\n",
      "        test_acc            0.5620179772377014\n",
      "        test_loss           0.6597840785980225\n",
      "────────────────────────────────────────────────────────────────────────────────────────────────────────────────────────\n"
     ]
    },
    {
     "name": "stderr",
     "output_type": "stream",
     "text": [
      "100%|██████████| 1916/1916 [01:27<00:00, 21.85it/s]\n"
     ]
    },
    {
     "name": "stdout",
     "output_type": "stream",
     "text": [
      "Train Performance: 0.9508196721311475\n"
     ]
    },
    {
     "name": "stderr",
     "output_type": "stream",
     "text": [
      "100%|██████████| 189/189 [01:01<00:00,  3.07it/s]\n"
     ]
    },
    {
     "name": "stdout",
     "output_type": "stream",
     "text": [
      "Validation Performance: 0.8333333333333334\n"
     ]
    },
    {
     "name": "stderr",
     "output_type": "stream",
     "text": [
      "100%|██████████| 195/195 [01:02<00:00,  3.12it/s]\n"
     ]
    },
    {
     "name": "stdout",
     "output_type": "stream",
     "text": [
      "Test Performance: 0.5\n",
      "\n",
      "Fold 5/12 -> Train: 62200 (exp: 61),  Val: 6224 (exp: 6),  Test: 5147 (exp: 6)\n"
     ]
    },
    {
     "name": "stderr",
     "output_type": "stream",
     "text": [
      "You are using the plain ModelCheckpoint callback. Consider using LitModelCheckpoint which with seamless uploading to Model registry.\n",
      "GPU available: True (cuda), used: True\n",
      "TPU available: False, using: 0 TPU cores\n",
      "HPU available: False, using: 0 HPUs\n",
      "LOCAL_RANK: 0 - CUDA_VISIBLE_DEVICES: [0]\n"
     ]
    },
    {
     "name": "stdout",
     "output_type": "stream",
     "text": [
      "Epoch 24: 100%|██████████| 1944/1944 [01:00<00:00, 32.12it/s, v_num=4, train_loss=0.215, train_acc=0.917, val_loss=0.647, val_acc=0.589] "
     ]
    },
    {
     "name": "stderr",
     "output_type": "stream",
     "text": [
      "`Trainer.fit` stopped: `max_epochs=25` reached.\n"
     ]
    },
    {
     "name": "stdout",
     "output_type": "stream",
     "text": [
      "Epoch 24: 100%|██████████| 1944/1944 [01:00<00:00, 32.10it/s, v_num=4, train_loss=0.215, train_acc=0.917, val_loss=0.647, val_acc=0.589]\n"
     ]
    },
    {
     "name": "stderr",
     "output_type": "stream",
     "text": [
      "LOCAL_RANK: 0 - CUDA_VISIBLE_DEVICES: [0]\n"
     ]
    },
    {
     "name": "stdout",
     "output_type": "stream",
     "text": [
      "Testing DataLoader 0: 100%|██████████| 161/161 [00:03<00:00, 51.27it/s]\n",
      "────────────────────────────────────────────────────────────────────────────────────────────────────────────────────────\n",
      "       Test metric             DataLoader 0\n",
      "────────────────────────────────────────────────────────────────────────────────────────────────────────────────────────\n",
      "        test_acc             0.812900722026825\n",
      "        test_loss           0.36282646656036377\n",
      "────────────────────────────────────────────────────────────────────────────────────────────────────────────────────────\n"
     ]
    },
    {
     "name": "stderr",
     "output_type": "stream",
     "text": [
      "100%|██████████| 1944/1944 [01:17<00:00, 25.14it/s]\n"
     ]
    },
    {
     "name": "stdout",
     "output_type": "stream",
     "text": [
      "Train Performance: 0.9508196721311475\n"
     ]
    },
    {
     "name": "stderr",
     "output_type": "stream",
     "text": [
      "100%|██████████| 195/195 [00:50<00:00,  3.84it/s]\n"
     ]
    },
    {
     "name": "stdout",
     "output_type": "stream",
     "text": [
      "Validation Performance: 0.5\n"
     ]
    },
    {
     "name": "stderr",
     "output_type": "stream",
     "text": [
      "100%|██████████| 161/161 [00:52<00:00,  3.08it/s]\n"
     ]
    },
    {
     "name": "stdout",
     "output_type": "stream",
     "text": [
      "Test Performance: 0.8333333333333334\n",
      "\n",
      "Fold 6/12 -> Train: 63151 (exp: 61),  Val: 5147 (exp: 6),  Test: 5273 (exp: 6)\n"
     ]
    },
    {
     "name": "stderr",
     "output_type": "stream",
     "text": [
      "You are using the plain ModelCheckpoint callback. Consider using LitModelCheckpoint which with seamless uploading to Model registry.\n",
      "GPU available: True (cuda), used: True\n",
      "TPU available: False, using: 0 TPU cores\n",
      "HPU available: False, using: 0 HPUs\n",
      "LOCAL_RANK: 0 - CUDA_VISIBLE_DEVICES: [0]\n"
     ]
    },
    {
     "name": "stdout",
     "output_type": "stream",
     "text": [
      "Epoch 17: 100%|██████████| 1974/1974 [01:01<00:00, 31.97it/s, v_num=5, train_loss=0.330, train_acc=0.933, val_loss=0.435, val_acc=0.771]\n"
     ]
    },
    {
     "name": "stderr",
     "output_type": "stream",
     "text": [
      "LOCAL_RANK: 0 - CUDA_VISIBLE_DEVICES: [0]\n"
     ]
    },
    {
     "name": "stdout",
     "output_type": "stream",
     "text": [
      "Testing DataLoader 0: 100%|██████████| 165/165 [00:03<00:00, 50.00it/s]\n",
      "────────────────────────────────────────────────────────────────────────────────────────────────────────────────────────\n",
      "       Test metric             DataLoader 0\n",
      "────────────────────────────────────────────────────────────────────────────────────────────────────────────────────────\n",
      "        test_acc            0.7508059740066528\n",
      "        test_loss           0.5509343147277832\n",
      "────────────────────────────────────────────────────────────────────────────────────────────────────────────────────────\n"
     ]
    },
    {
     "name": "stderr",
     "output_type": "stream",
     "text": [
      "100%|██████████| 1974/1974 [01:38<00:00, 19.97it/s]\n"
     ]
    },
    {
     "name": "stdout",
     "output_type": "stream",
     "text": [
      "Train Performance: 0.9672131147540983\n"
     ]
    },
    {
     "name": "stderr",
     "output_type": "stream",
     "text": [
      "100%|██████████| 161/161 [01:06<00:00,  2.42it/s]\n"
     ]
    },
    {
     "name": "stdout",
     "output_type": "stream",
     "text": [
      "Validation Performance: 0.8333333333333334\n"
     ]
    },
    {
     "name": "stderr",
     "output_type": "stream",
     "text": [
      "100%|██████████| 165/165 [00:58<00:00,  2.84it/s]\n"
     ]
    },
    {
     "name": "stdout",
     "output_type": "stream",
     "text": [
      "Test Performance: 0.6666666666666666\n",
      "\n",
      "Fold 7/12 -> Train: 61754 (exp: 61),  Val: 5273 (exp: 6),  Test: 6544 (exp: 6)\n"
     ]
    },
    {
     "name": "stderr",
     "output_type": "stream",
     "text": [
      "You are using the plain ModelCheckpoint callback. Consider using LitModelCheckpoint which with seamless uploading to Model registry.\n",
      "GPU available: True (cuda), used: True\n",
      "TPU available: False, using: 0 TPU cores\n",
      "HPU available: False, using: 0 HPUs\n",
      "LOCAL_RANK: 0 - CUDA_VISIBLE_DEVICES: [0]\n"
     ]
    },
    {
     "name": "stdout",
     "output_type": "stream",
     "text": [
      "Epoch 24: 100%|██████████| 1930/1930 [01:04<00:00, 30.15it/s, v_num=6, train_loss=0.369, train_acc=0.846, val_loss=0.497, val_acc=0.766]"
     ]
    },
    {
     "name": "stderr",
     "output_type": "stream",
     "text": [
      "`Trainer.fit` stopped: `max_epochs=25` reached.\n"
     ]
    },
    {
     "name": "stdout",
     "output_type": "stream",
     "text": [
      "Epoch 24: 100%|██████████| 1930/1930 [01:04<00:00, 30.13it/s, v_num=6, train_loss=0.369, train_acc=0.846, val_loss=0.497, val_acc=0.766]\n"
     ]
    },
    {
     "name": "stderr",
     "output_type": "stream",
     "text": [
      "LOCAL_RANK: 0 - CUDA_VISIBLE_DEVICES: [0]\n"
     ]
    },
    {
     "name": "stdout",
     "output_type": "stream",
     "text": [
      "Testing DataLoader 0: 100%|██████████| 205/205 [00:04<00:00, 44.57it/s]\n",
      "────────────────────────────────────────────────────────────────────────────────────────────────────────────────────────\n",
      "       Test metric             DataLoader 0\n",
      "────────────────────────────────────────────────────────────────────────────────────────────────────────────────────────\n",
      "        test_acc            0.8849327564239502\n",
      "        test_loss           0.24400033056735992\n",
      "────────────────────────────────────────────────────────────────────────────────────────────────────────────────────────\n"
     ]
    },
    {
     "name": "stderr",
     "output_type": "stream",
     "text": [
      "100%|██████████| 1930/1930 [01:26<00:00, 22.37it/s]\n"
     ]
    },
    {
     "name": "stdout",
     "output_type": "stream",
     "text": [
      "Train Performance: 0.9672131147540983\n"
     ]
    },
    {
     "name": "stderr",
     "output_type": "stream",
     "text": [
      "100%|██████████| 165/165 [01:03<00:00,  2.61it/s]\n"
     ]
    },
    {
     "name": "stdout",
     "output_type": "stream",
     "text": [
      "Validation Performance: 0.6666666666666666\n"
     ]
    },
    {
     "name": "stderr",
     "output_type": "stream",
     "text": [
      "100%|██████████| 205/205 [01:06<00:00,  3.07it/s]\n"
     ]
    },
    {
     "name": "stdout",
     "output_type": "stream",
     "text": [
      "Test Performance: 1.0\n",
      "\n",
      "Fold 8/12 -> Train: 61609 (exp: 61),  Val: 6544 (exp: 6),  Test: 5418 (exp: 6)\n"
     ]
    },
    {
     "name": "stderr",
     "output_type": "stream",
     "text": [
      "You are using the plain ModelCheckpoint callback. Consider using LitModelCheckpoint which with seamless uploading to Model registry.\n",
      "GPU available: True (cuda), used: True\n",
      "TPU available: False, using: 0 TPU cores\n",
      "HPU available: False, using: 0 HPUs\n",
      "LOCAL_RANK: 0 - CUDA_VISIBLE_DEVICES: [0]\n"
     ]
    },
    {
     "name": "stdout",
     "output_type": "stream",
     "text": [
      "Epoch 24: 100%|██████████| 1926/1926 [01:06<00:00, 28.94it/s, v_num=7, train_loss=0.268, train_acc=0.778, val_loss=0.252, val_acc=0.884] "
     ]
    },
    {
     "name": "stderr",
     "output_type": "stream",
     "text": [
      "`Trainer.fit` stopped: `max_epochs=25` reached.\n"
     ]
    },
    {
     "name": "stdout",
     "output_type": "stream",
     "text": [
      "Epoch 24: 100%|██████████| 1926/1926 [01:06<00:00, 28.93it/s, v_num=7, train_loss=0.268, train_acc=0.778, val_loss=0.252, val_acc=0.884]\n"
     ]
    },
    {
     "name": "stderr",
     "output_type": "stream",
     "text": [
      "LOCAL_RANK: 0 - CUDA_VISIBLE_DEVICES: [0]\n"
     ]
    },
    {
     "name": "stdout",
     "output_type": "stream",
     "text": [
      "Testing DataLoader 0: 100%|██████████| 170/170 [00:03<00:00, 46.90it/s]\n",
      "────────────────────────────────────────────────────────────────────────────────────────────────────────────────────────\n",
      "       Test metric             DataLoader 0\n",
      "────────────────────────────────────────────────────────────────────────────────────────────────────────────────────────\n",
      "        test_acc            0.7927279472351074\n",
      "        test_loss           0.41747820377349854\n",
      "────────────────────────────────────────────────────────────────────────────────────────────────────────────────────────\n"
     ]
    },
    {
     "name": "stderr",
     "output_type": "stream",
     "text": [
      "100%|██████████| 1926/1926 [01:26<00:00, 22.37it/s]\n"
     ]
    },
    {
     "name": "stdout",
     "output_type": "stream",
     "text": [
      "Train Performance: 0.9508196721311475\n"
     ]
    },
    {
     "name": "stderr",
     "output_type": "stream",
     "text": [
      "100%|██████████| 205/205 [01:00<00:00,  3.37it/s]\n"
     ]
    },
    {
     "name": "stdout",
     "output_type": "stream",
     "text": [
      "Validation Performance: 1.0\n"
     ]
    },
    {
     "name": "stderr",
     "output_type": "stream",
     "text": [
      "  0%|          | 0/170 [00:00<?, ?it/s]"
     ]
    }
   ],
   "source": [
    "splits_path = r\"C:\\Users\\miche\\OneDrive\\Desktop\\tesi\\repo-tesi\\time_windows_approach\\models\\binaryETHvsACE\\fold_splits_exp_names.json\"\n",
    "splits = json.load(open(splits_path, \"r\"))\n",
    "splits = {int(k): v for k, v in splits.items()}\n",
    "\n",
    "for fold in range(1, folds+1):\n",
    "\n",
    "    # Fold Splitting\n",
    "    df_train = df[df[\"exp_name\"].isin(splits[fold][\"train\"])]\n",
    "    df_val = df[df[\"exp_name\"].isin(splits[fold][\"val\"])]\n",
    "    df_test = df[df[\"exp_name\"].isin(splits[fold][\"test\"])]\n",
    "\n",
    "    feature_columns = [col for col in df_train.columns if col not in [\"label\", \"exp_name\"]]\n",
    "    scaler = StandardScaler()\n",
    "    scaler.fit(df_train[feature_columns])\n",
    "    mean = scaler.mean_\n",
    "    std = scaler.scale_\n",
    "\n",
    "    train_dataset = SensorDataset(df = df_train,\n",
    "                                  label_encoder=label_encoder,\n",
    "                                  exp_name_to_label=exp_name_to_label,\n",
    "                                  mean=mean,\n",
    "                                  std=std)\n",
    "    \n",
    "    val_dataset = SensorDataset(df = df_val,\n",
    "                                label_encoder=label_encoder,\n",
    "                                exp_name_to_label=exp_name_to_label,\n",
    "                                mean=mean,\n",
    "                                std=std)\n",
    "    \n",
    "    test_dataset = SensorDataset(df = df_test,\n",
    "                                 label_encoder=label_encoder,\n",
    "                                 exp_name_to_label=exp_name_to_label,\n",
    "                                 mean=mean,\n",
    "                                 std=std)\n",
    "    \n",
    "    print(f\"\\nFold {fold}/{folds} -> Train: {len(train_dataset)} (exp: {len(df_train['exp_name'].unique())}), \",\n",
    "        f\"Val: {len(val_dataset)} (exp: {len(df_val['exp_name'].unique())}), \",\n",
    "        f\"Test: {len(test_dataset)} (exp: {len(df_test['exp_name'].unique())})\")\n",
    "    \n",
    "    train_loader = DataLoader(train_dataset, batch_size=32, shuffle=True, num_workers=4, persistent_workers=True)\n",
    "    val_loader = DataLoader(val_dataset, batch_size=32, shuffle=False, num_workers=4, persistent_workers=True)\n",
    "    test_loader = DataLoader(test_dataset, batch_size=32, shuffle=False, num_workers=4, persistent_workers=True)\n",
    "\n",
    "    model = MLPClassifier(\n",
    "        num_features=len(feature_columns),\n",
    "        hidden_dim=hidden_dim,\n",
    "        num_classes=2,\n",
    "        lr=1e-4,\n",
    "        dropout=0.2,\n",
    "        weight_decay=1e-5\n",
    "    )\n",
    "\n",
    "    early_stop_callback = EarlyStopping(\n",
    "        monitor=\"val_loss\",\n",
    "        patience=5,\n",
    "        verbose=False,\n",
    "        mode=\"min\"\n",
    "    )\n",
    "\n",
    "    trainer = Trainer(\n",
    "        max_epochs=MAX_EPOCHS,\n",
    "        callbacks=[early_stop_callback],\n",
    "        enable_model_summary=False,  # <- Hides the model summary\n",
    "        accelerator=\"gpu\" if torch.cuda.is_available() else \"cpu\",\n",
    "        devices=1\n",
    "    )\n",
    "\n",
    "    trainer.fit(model, train_loader, val_loader)\n",
    "    # Save the model\n",
    "    output_name = f\"binaryETHvsACE/binaryETHvsACE_MLP_h{hidden_dim}_{fold}.ckpt\"\n",
    "    model_path = os.path.join(model_output_path, output_name)\n",
    "    trainer.save_checkpoint(model_path)\n",
    "\n",
    "    # Test the model\n",
    "    trainer.test(model, test_loader)\n",
    "\n",
    "    _, train_exp_stats = get_stats(model_path, train_loader, len(label_encoder.classes_), device)\n",
    "    train_performance, _, _ = compute_experiment_performance(train_exp_stats)\n",
    "    print(f\"Train Performance: {train_performance}\")\n",
    "\n",
    "    _, val_exp_stats = get_stats(model_path, val_loader, len(label_encoder.classes_), device)\n",
    "    val_performance, _, _ = compute_experiment_performance(val_exp_stats)\n",
    "    print(f\"Validation Performance: {val_performance}\")\n",
    "\n",
    "    _, test_exp_stats = get_stats(model_path, test_loader, len(label_encoder.classes_), device)\n",
    "    test_performance, _, _ = compute_experiment_performance(test_exp_stats)\n",
    "    print(f\"Test Performance: {test_performance}\")"
   ]
  },
  {
   "cell_type": "code",
   "execution_count": 7,
   "id": "dd9b67b8",
   "metadata": {},
   "outputs": [
    {
     "name": "stderr",
     "output_type": "stream",
     "text": [
      "You are using the plain ModelCheckpoint callback. Consider using LitModelCheckpoint which with seamless uploading to Model registry.\n",
      "GPU available: True (cuda), used: True\n",
      "TPU available: False, using: 0 TPU cores\n",
      "HPU available: False, using: 0 HPUs\n",
      "c:\\Users\\miche\\OneDrive\\Desktop\\tesi\\repo-tesi\\venv\\Lib\\site-packages\\pytorch_lightning\\trainer\\connectors\\logger_connector\\logger_connector.py:76: Starting from v1.9.0, `tensorboardX` has been removed as a dependency of the `pytorch_lightning` package, due to potential conflicts with other packages in the ML ecosystem. For this reason, `logger=True` will use `CSVLogger` as the default logger, unless the `tensorboard` or `tensorboardX` packages are found. Please `pip install lightning[extra]` or one of them to enable TensorBoard support by default\n",
      "LOCAL_RANK: 0 - CUDA_VISIBLE_DEVICES: [0]\n"
     ]
    },
    {
     "name": "stdout",
     "output_type": "stream",
     "text": [
      "\n",
      "Fold 8/12 -> Train: 61609 (exp: 61),  Val: 6544 (exp: 6),  Test: 5418 (exp: 6)\n",
      "Epoch 24: 100%|██████████| 1926/1926 [00:47<00:00, 40.97it/s, v_num=7, train_loss=0.301, train_acc=0.778, val_loss=0.245, val_acc=0.886] "
     ]
    },
    {
     "name": "stderr",
     "output_type": "stream",
     "text": [
      "`Trainer.fit` stopped: `max_epochs=25` reached.\n"
     ]
    },
    {
     "name": "stdout",
     "output_type": "stream",
     "text": [
      "Epoch 24: 100%|██████████| 1926/1926 [00:47<00:00, 40.96it/s, v_num=7, train_loss=0.301, train_acc=0.778, val_loss=0.245, val_acc=0.886]\n"
     ]
    },
    {
     "name": "stderr",
     "output_type": "stream",
     "text": [
      "LOCAL_RANK: 0 - CUDA_VISIBLE_DEVICES: [0]\n"
     ]
    },
    {
     "name": "stdout",
     "output_type": "stream",
     "text": [
      "Testing DataLoader 0: 100%|██████████| 170/170 [00:04<00:00, 41.90it/s]\n",
      "────────────────────────────────────────────────────────────────────────────────────────────────────────────────────────\n",
      "       Test metric             DataLoader 0\n",
      "────────────────────────────────────────────────────────────────────────────────────────────────────────────────────────\n",
      "        test_acc            0.8045403957366943\n",
      "        test_loss           0.39853134751319885\n",
      "────────────────────────────────────────────────────────────────────────────────────────────────────────────────────────\n"
     ]
    },
    {
     "name": "stderr",
     "output_type": "stream",
     "text": [
      "100%|██████████| 1926/1926 [01:31<00:00, 20.95it/s]\n"
     ]
    },
    {
     "name": "stdout",
     "output_type": "stream",
     "text": [
      "Train Performance: 0.9508196721311475\n"
     ]
    },
    {
     "name": "stderr",
     "output_type": "stream",
     "text": [
      "100%|██████████| 205/205 [00:58<00:00,  3.48it/s]\n"
     ]
    },
    {
     "name": "stdout",
     "output_type": "stream",
     "text": [
      "Validation Performance: 1.0\n"
     ]
    },
    {
     "name": "stderr",
     "output_type": "stream",
     "text": [
      "100%|██████████| 170/170 [00:57<00:00,  2.94it/s]\n"
     ]
    },
    {
     "name": "stdout",
     "output_type": "stream",
     "text": [
      "Test Performance: 0.8333333333333334\n",
      "\n",
      "Fold 9/12 -> Train: 61380 (exp: 61),  Val: 5418 (exp: 6),  Test: 6773 (exp: 6)\n"
     ]
    },
    {
     "name": "stderr",
     "output_type": "stream",
     "text": [
      "You are using the plain ModelCheckpoint callback. Consider using LitModelCheckpoint which with seamless uploading to Model registry.\n",
      "GPU available: True (cuda), used: True\n",
      "TPU available: False, using: 0 TPU cores\n",
      "HPU available: False, using: 0 HPUs\n",
      "LOCAL_RANK: 0 - CUDA_VISIBLE_DEVICES: [0]\n"
     ]
    },
    {
     "name": "stdout",
     "output_type": "stream",
     "text": [
      "Epoch 24: 100%|██████████| 1919/1919 [01:02<00:00, 30.52it/s, v_num=8, train_loss=0.213, train_acc=0.750, val_loss=0.370, val_acc=0.873] "
     ]
    },
    {
     "name": "stderr",
     "output_type": "stream",
     "text": [
      "`Trainer.fit` stopped: `max_epochs=25` reached.\n"
     ]
    },
    {
     "name": "stdout",
     "output_type": "stream",
     "text": [
      "Epoch 24: 100%|██████████| 1919/1919 [01:02<00:00, 30.50it/s, v_num=8, train_loss=0.213, train_acc=0.750, val_loss=0.370, val_acc=0.873]\n"
     ]
    },
    {
     "name": "stderr",
     "output_type": "stream",
     "text": [
      "LOCAL_RANK: 0 - CUDA_VISIBLE_DEVICES: [0]\n"
     ]
    },
    {
     "name": "stdout",
     "output_type": "stream",
     "text": [
      "Testing DataLoader 0: 100%|██████████| 212/212 [00:04<00:00, 46.13it/s]\n",
      "────────────────────────────────────────────────────────────────────────────────────────────────────────────────────────\n",
      "       Test metric             DataLoader 0\n",
      "────────────────────────────────────────────────────────────────────────────────────────────────────────────────────────\n",
      "        test_acc            0.7711501717567444\n",
      "        test_loss           0.45131757855415344\n",
      "────────────────────────────────────────────────────────────────────────────────────────────────────────────────────────\n"
     ]
    },
    {
     "name": "stderr",
     "output_type": "stream",
     "text": [
      "100%|██████████| 1919/1919 [01:24<00:00, 22.67it/s]\n"
     ]
    },
    {
     "name": "stdout",
     "output_type": "stream",
     "text": [
      "Train Performance: 0.9672131147540983\n"
     ]
    },
    {
     "name": "stderr",
     "output_type": "stream",
     "text": [
      "100%|██████████| 170/170 [00:54<00:00,  3.11it/s]\n"
     ]
    },
    {
     "name": "stdout",
     "output_type": "stream",
     "text": [
      "Validation Performance: 1.0\n"
     ]
    },
    {
     "name": "stderr",
     "output_type": "stream",
     "text": [
      "100%|██████████| 212/212 [00:58<00:00,  3.62it/s]\n"
     ]
    },
    {
     "name": "stdout",
     "output_type": "stream",
     "text": [
      "Test Performance: 0.8333333333333334\n",
      "\n",
      "Fold 10/12 -> Train: 60487 (exp: 61),  Val: 6773 (exp: 6),  Test: 6311 (exp: 6)\n"
     ]
    },
    {
     "name": "stderr",
     "output_type": "stream",
     "text": [
      "You are using the plain ModelCheckpoint callback. Consider using LitModelCheckpoint which with seamless uploading to Model registry.\n",
      "GPU available: True (cuda), used: True\n",
      "TPU available: False, using: 0 TPU cores\n",
      "HPU available: False, using: 0 HPUs\n",
      "LOCAL_RANK: 0 - CUDA_VISIBLE_DEVICES: [0]\n"
     ]
    },
    {
     "name": "stdout",
     "output_type": "stream",
     "text": [
      "Epoch 5: 100%|██████████| 1891/1891 [01:14<00:00, 25.28it/s, v_num=9, train_loss=0.310, train_acc=0.857, val_loss=1.180, val_acc=0.675]\n"
     ]
    },
    {
     "name": "stderr",
     "output_type": "stream",
     "text": [
      "LOCAL_RANK: 0 - CUDA_VISIBLE_DEVICES: [0]\n"
     ]
    },
    {
     "name": "stdout",
     "output_type": "stream",
     "text": [
      "Testing DataLoader 0: 100%|██████████| 198/198 [00:04<00:00, 46.62it/s]\n",
      "────────────────────────────────────────────────────────────────────────────────────────────────────────────────────────\n",
      "       Test metric             DataLoader 0\n",
      "────────────────────────────────────────────────────────────────────────────────────────────────────────────────────────\n",
      "        test_acc            0.8399619460105896\n",
      "        test_loss           0.4312269687652588\n",
      "────────────────────────────────────────────────────────────────────────────────────────────────────────────────────────\n"
     ]
    },
    {
     "name": "stderr",
     "output_type": "stream",
     "text": [
      "100%|██████████| 1891/1891 [01:23<00:00, 22.72it/s]\n"
     ]
    },
    {
     "name": "stdout",
     "output_type": "stream",
     "text": [
      "Train Performance: 0.8524590163934426\n"
     ]
    },
    {
     "name": "stderr",
     "output_type": "stream",
     "text": [
      "100%|██████████| 212/212 [00:57<00:00,  3.70it/s]\n"
     ]
    },
    {
     "name": "stdout",
     "output_type": "stream",
     "text": [
      "Validation Performance: 0.8333333333333334\n"
     ]
    },
    {
     "name": "stderr",
     "output_type": "stream",
     "text": [
      "100%|██████████| 198/198 [01:06<00:00,  3.00it/s]\n"
     ]
    },
    {
     "name": "stdout",
     "output_type": "stream",
     "text": [
      "Test Performance: 1.0\n",
      "\n",
      "Fold 11/12 -> Train: 60223 (exp: 61),  Val: 6311 (exp: 6),  Test: 7037 (exp: 6)\n"
     ]
    },
    {
     "name": "stderr",
     "output_type": "stream",
     "text": [
      "You are using the plain ModelCheckpoint callback. Consider using LitModelCheckpoint which with seamless uploading to Model registry.\n",
      "GPU available: True (cuda), used: True\n",
      "TPU available: False, using: 0 TPU cores\n",
      "HPU available: False, using: 0 HPUs\n",
      "LOCAL_RANK: 0 - CUDA_VISIBLE_DEVICES: [0]\n"
     ]
    },
    {
     "name": "stdout",
     "output_type": "stream",
     "text": [
      "Epoch 5: 100%|██████████| 1882/1882 [01:00<00:00, 31.17it/s, v_num=10, train_loss=0.471, train_acc=0.742, val_loss=0.437, val_acc=0.755]\n"
     ]
    },
    {
     "name": "stderr",
     "output_type": "stream",
     "text": [
      "LOCAL_RANK: 0 - CUDA_VISIBLE_DEVICES: [0]\n"
     ]
    },
    {
     "name": "stdout",
     "output_type": "stream",
     "text": [
      "Testing DataLoader 0: 100%|██████████| 220/220 [00:04<00:00, 46.40it/s]\n",
      "────────────────────────────────────────────────────────────────────────────────────────────────────────────────────────\n",
      "       Test metric             DataLoader 0\n",
      "────────────────────────────────────────────────────────────────────────────────────────────────────────────────────────\n",
      "        test_acc             0.603950560092926\n",
      "        test_loss           0.5233703851699829\n",
      "────────────────────────────────────────────────────────────────────────────────────────────────────────────────────────\n"
     ]
    },
    {
     "name": "stderr",
     "output_type": "stream",
     "text": [
      "100%|██████████| 1882/1882 [01:15<00:00, 24.85it/s]\n"
     ]
    },
    {
     "name": "stdout",
     "output_type": "stream",
     "text": [
      "Train Performance: 0.8688524590163934\n"
     ]
    },
    {
     "name": "stderr",
     "output_type": "stream",
     "text": [
      "100%|██████████| 198/198 [00:49<00:00,  3.98it/s]\n"
     ]
    },
    {
     "name": "stdout",
     "output_type": "stream",
     "text": [
      "Validation Performance: 0.8333333333333334\n"
     ]
    },
    {
     "name": "stderr",
     "output_type": "stream",
     "text": [
      "100%|██████████| 220/220 [00:54<00:00,  4.06it/s]\n"
     ]
    },
    {
     "name": "stdout",
     "output_type": "stream",
     "text": [
      "Test Performance: 0.6666666666666666\n",
      "\n",
      "Fold 12/12 -> Train: 65546 (exp: 66),  Val: 7037 (exp: 6),  Test: 988 (exp: 1)\n"
     ]
    },
    {
     "name": "stderr",
     "output_type": "stream",
     "text": [
      "You are using the plain ModelCheckpoint callback. Consider using LitModelCheckpoint which with seamless uploading to Model registry.\n",
      "GPU available: True (cuda), used: True\n",
      "TPU available: False, using: 0 TPU cores\n",
      "HPU available: False, using: 0 HPUs\n",
      "LOCAL_RANK: 0 - CUDA_VISIBLE_DEVICES: [0]\n"
     ]
    },
    {
     "name": "stdout",
     "output_type": "stream",
     "text": [
      "Epoch 5: 100%|██████████| 2049/2049 [01:06<00:00, 30.73it/s, v_num=11, train_loss=0.270, train_acc=0.900, val_loss=0.535, val_acc=0.599]\n"
     ]
    },
    {
     "name": "stderr",
     "output_type": "stream",
     "text": [
      "LOCAL_RANK: 0 - CUDA_VISIBLE_DEVICES: [0]\n"
     ]
    },
    {
     "name": "stdout",
     "output_type": "stream",
     "text": [
      "Testing DataLoader 0: 100%|██████████| 31/31 [00:00<00:00, 61.94it/s]\n",
      "────────────────────────────────────────────────────────────────────────────────────────────────────────────────────────\n",
      "       Test metric             DataLoader 0\n",
      "────────────────────────────────────────────────────────────────────────────────────────────────────────────────────────\n",
      "        test_acc           0.037449393421411514\n",
      "        test_loss            1.256492257118225\n",
      "────────────────────────────────────────────────────────────────────────────────────────────────────────────────────────\n"
     ]
    },
    {
     "name": "stderr",
     "output_type": "stream",
     "text": [
      "100%|██████████| 2049/2049 [01:28<00:00, 23.16it/s]\n"
     ]
    },
    {
     "name": "stdout",
     "output_type": "stream",
     "text": [
      "Train Performance: 0.8787878787878788\n"
     ]
    },
    {
     "name": "stderr",
     "output_type": "stream",
     "text": [
      "100%|██████████| 220/220 [00:52<00:00,  4.21it/s]\n"
     ]
    },
    {
     "name": "stdout",
     "output_type": "stream",
     "text": [
      "Validation Performance: 0.6666666666666666\n"
     ]
    },
    {
     "name": "stderr",
     "output_type": "stream",
     "text": [
      "100%|██████████| 31/31 [00:55<00:00,  1.81s/it]"
     ]
    },
    {
     "name": "stdout",
     "output_type": "stream",
     "text": [
      "Test Performance: 0.0\n"
     ]
    },
    {
     "name": "stderr",
     "output_type": "stream",
     "text": [
      "\n"
     ]
    }
   ],
   "source": [
    "#breakpoint\n",
    "breakpoint_fold = 8\n",
    "\n",
    "splits_path = r\"C:\\Users\\miche\\OneDrive\\Desktop\\tesi\\repo-tesi\\time_windows_approach\\models\\binaryETHvsACE\\fold_splits_exp_names.json\"\n",
    "splits = json.load(open(splits_path, \"r\"))\n",
    "splits = {int(k): v for k, v in splits.items()}\n",
    "\n",
    "for fold in range(breakpoint_fold, folds+1):\n",
    "\n",
    "    # Fold Splitting\n",
    "    df_train = df[df[\"exp_name\"].isin(splits[fold][\"train\"])]\n",
    "    df_val = df[df[\"exp_name\"].isin(splits[fold][\"val\"])]\n",
    "    df_test = df[df[\"exp_name\"].isin(splits[fold][\"test\"])]\n",
    "\n",
    "    feature_columns = [col for col in df_train.columns if col not in [\"label\", \"exp_name\"]]\n",
    "    scaler = StandardScaler()\n",
    "    scaler.fit(df_train[feature_columns])\n",
    "    mean = scaler.mean_\n",
    "    std = scaler.scale_\n",
    "\n",
    "    train_dataset = SensorDataset(df = df_train,\n",
    "                                  label_encoder=label_encoder,\n",
    "                                  exp_name_to_label=exp_name_to_label,\n",
    "                                  mean=mean,\n",
    "                                  std=std)\n",
    "    \n",
    "    val_dataset = SensorDataset(df = df_val,\n",
    "                                label_encoder=label_encoder,\n",
    "                                exp_name_to_label=exp_name_to_label,\n",
    "                                mean=mean,\n",
    "                                std=std)\n",
    "    \n",
    "    test_dataset = SensorDataset(df = df_test,\n",
    "                                 label_encoder=label_encoder,\n",
    "                                 exp_name_to_label=exp_name_to_label,\n",
    "                                 mean=mean,\n",
    "                                 std=std)\n",
    "    \n",
    "    print(f\"\\nFold {fold}/{folds} -> Train: {len(train_dataset)} (exp: {len(df_train['exp_name'].unique())}), \",\n",
    "        f\"Val: {len(val_dataset)} (exp: {len(df_val['exp_name'].unique())}), \",\n",
    "        f\"Test: {len(test_dataset)} (exp: {len(df_test['exp_name'].unique())})\")\n",
    "    \n",
    "    train_loader = DataLoader(train_dataset, batch_size=32, shuffle=True, num_workers=4, persistent_workers=True)\n",
    "    val_loader = DataLoader(val_dataset, batch_size=32, shuffle=False, num_workers=4, persistent_workers=True)\n",
    "    test_loader = DataLoader(test_dataset, batch_size=32, shuffle=False, num_workers=4, persistent_workers=True)\n",
    "\n",
    "    model = MLPClassifier(\n",
    "        num_features=len(feature_columns),\n",
    "        hidden_dim=hidden_dim,\n",
    "        num_classes=2,\n",
    "        lr=1e-4,\n",
    "        dropout=0.2,\n",
    "        weight_decay=1e-5\n",
    "    )\n",
    "\n",
    "    early_stop_callback = EarlyStopping(\n",
    "        monitor=\"val_loss\",\n",
    "        patience=5,\n",
    "        verbose=False,\n",
    "        mode=\"min\"\n",
    "    )\n",
    "\n",
    "    trainer = Trainer(\n",
    "        max_epochs=MAX_EPOCHS,\n",
    "        callbacks=[early_stop_callback],\n",
    "        enable_model_summary=False,  # <- Hides the model summary\n",
    "        accelerator=\"gpu\" if torch.cuda.is_available() else \"cpu\",\n",
    "        devices=1\n",
    "    )\n",
    "\n",
    "    trainer.fit(model, train_loader, val_loader)\n",
    "    # Save the model\n",
    "    output_name = f\"binaryETHvsACE/binaryETHvsACE_MLP_h{hidden_dim}_{fold}.ckpt\"\n",
    "    model_path = os.path.join(model_output_path, output_name)\n",
    "    trainer.save_checkpoint(model_path)\n",
    "\n",
    "    # Test the model\n",
    "    trainer.test(model, test_loader)\n",
    "\n",
    "    _, train_exp_stats = get_stats(model_path, train_loader, len(label_encoder.classes_), device)\n",
    "    train_performance, _, _ = compute_experiment_performance(train_exp_stats)\n",
    "    print(f\"Train Performance: {train_performance}\")\n",
    "\n",
    "    _, val_exp_stats = get_stats(model_path, val_loader, len(label_encoder.classes_), device)\n",
    "    val_performance, _, _ = compute_experiment_performance(val_exp_stats)\n",
    "    print(f\"Validation Performance: {val_performance}\")\n",
    "\n",
    "    _, test_exp_stats = get_stats(model_path, test_loader, len(label_encoder.classes_), device)\n",
    "    test_performance, _, _ = compute_experiment_performance(test_exp_stats)\n",
    "    print(f\"Test Performance: {test_performance}\")"
   ]
  }
 ],
 "metadata": {
  "kernelspec": {
   "display_name": "venv",
   "language": "python",
   "name": "python3"
  },
  "language_info": {
   "codemirror_mode": {
    "name": "ipython",
    "version": 3
   },
   "file_extension": ".py",
   "mimetype": "text/x-python",
   "name": "python",
   "nbconvert_exporter": "python",
   "pygments_lexer": "ipython3",
   "version": "3.11.9"
  }
 },
 "nbformat": 4,
 "nbformat_minor": 5
}
